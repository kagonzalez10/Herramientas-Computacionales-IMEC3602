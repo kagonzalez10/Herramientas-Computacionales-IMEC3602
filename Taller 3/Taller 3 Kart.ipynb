{
 "cells": [
  {
   "cell_type": "code",
   "execution_count": 33,
   "metadata": {},
   "outputs": [
    {
     "name": "stdout",
     "output_type": "stream",
     "text": [
      "Using matplotlib backend: MacOSX\n",
      "Populating the interactive namespace from numpy and matplotlib\n"
     ]
    }
   ],
   "source": [
    "%pylab\n",
    "from scipy.integrate import odeint\n",
    "import matplotlib.pyplot as plt\n",
    "import os\n",
    "import pandas as pd"
   ]
  },
  {
   "cell_type": "code",
   "execution_count": 34,
   "metadata": {},
   "outputs": [],
   "source": [
    "data_file = './data_electrico/VBS__052.VBO'\n",
    "with open(data_file, 'r',encoding='cp1252') as vboxdata:\n",
    "    section = []\n",
    "    time = []\n",
    "    lat = []\n",
    "    long = []\n",
    "    vel = []\n",
    "    height = []\n",
    "    vertv = []\n",
    "    for line in vboxdata:\n",
    "        if line[0] == '[':\n",
    "            section = str.replace(line, \"\\n\",\"\")\n",
    "            continue\n",
    "        if section == '[column names]':\n",
    "            col_names = str.replace(line, \"  \\n\",\"\").split('  ')\n",
    "            section = []\n",
    "        if section == '[data]':\n",
    "            linesplit = str.replace(line, \" \\n\",\"\").split(' ')\n",
    "            time.append(float(linesplit[1][0:2])*3600+float(linesplit[1][2:4])*60+float(linesplit[1][4:]))\n",
    "            lat.append(float(linesplit[2]))\n",
    "            long.append(float(linesplit[3]))\n",
    "            vel.append(float(linesplit[4]))\n",
    "            height.append(float(linesplit[6]))\n",
    "            vertv.append(float(linesplit[7]))\n",
    "\n",
    "time = np.asarray(time)\n",
    "lat = np.asarray(lat)\n",
    "long = np.asarray(long)\n",
    "vel = np.asarray(vel)\n",
    "height = np.asarray(height)\n",
    "vertv = np.asarray(vertv)\n",
    "time_base = time[0]\n",
    "time = time - time_base\n",
    "lat = lat/60.0\n",
    "long = -long/60.0\n",
    "dt = time[1]-time[0]"
   ]
  },
  {
   "cell_type": "code",
   "execution_count": 56,
   "metadata": {},
   "outputs": [],
   "source": [
    "datos = pd.DataFrame(columns=['Tiempo','Lat','Long','Velocidad','Height','Vertv'])\n",
    "datos['Tiempo']=time\n",
    "datos['Lat']=lat\n",
    "datos['Long']=long\n",
    "datos['Velocidad']=vel\n",
    "datos['Height']=height\n",
    "datos['Vertv']=vertv"
   ]
  },
  {
   "cell_type": "code",
   "execution_count": null,
   "metadata": {
    "collapsed": true
   },
   "outputs": [],
   "source": []
  }
 ],
 "metadata": {
  "kernelspec": {
   "display_name": "Python 3",
   "language": "python",
   "name": "python3"
  },
  "language_info": {
   "codemirror_mode": {
    "name": "ipython",
    "version": 3
   },
   "file_extension": ".py",
   "mimetype": "text/x-python",
   "name": "python",
   "nbconvert_exporter": "python",
   "pygments_lexer": "ipython3",
   "version": "3.6.3"
  }
 },
 "nbformat": 4,
 "nbformat_minor": 2
}
