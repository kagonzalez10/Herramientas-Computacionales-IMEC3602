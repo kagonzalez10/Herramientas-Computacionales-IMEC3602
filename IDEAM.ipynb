{
 "cells": [
  {
   "cell_type": "code",
   "execution_count": 1,
   "metadata": {},
   "outputs": [
    {
     "name": "stdout",
     "output_type": "stream",
     "text": [
      "Populating the interactive namespace from numpy and matplotlib\n"
     ]
    }
   ],
   "source": [
    "import os\n",
    "import pandas as pd\n",
    "%pylab inline"
   ]
  },
  {
   "cell_type": "code",
   "execution_count": 29,
   "metadata": {
    "collapsed": true
   },
   "outputs": [],
   "source": [
    "# Acá se identifica la dirección de los datos de IDEAM en la ciudad Valledupar\n",
    "\n",
    "base_dir = os.path.join( '.','IDEAMDATA','.','data')\n",
    "output_dir = os.path.join( '.','output')\n",
    "ciudad = 'Valledupar'\n",
    "fuente1 = 'IDEAM'\n",
    "fuente2 = 'NREL'\n",
    "serie_csv = os.path.join(base_dir,ciudad,fuente1+'.csv')\n",
    "serie_pd = pd.read_csv(serie_csv, sep = ';',\n",
    "                encoding='latin-1')\n",
    "serie_NREL = os.path.join(base_dir,ciudad,fuente2+'.csv')\n",
    "data_NREL = pd.read_csv(serie_NREL, sep = ';', encoding='latin-1')"
   ]
  },
  {
   "cell_type": "code",
   "execution_count": 80,
   "metadata": {
    "collapsed": true
   },
   "outputs": [],
   "source": [
    "# Función que determina la radiación mensual de la ciudad\n",
    "\n",
    "def ghi_mensual(serie_horaria):\n",
    "    anos = sorted(serie_horaria['AÑO'].unique())\n",
    "    ghi_df = pd.DataFrame(columns=[\"AÑO\", \"MES\", \"DIAS\", \"GHImes\"])\n",
    "    for ano in anos:\n",
    "        for mes in range(1,13):\n",
    "            nombre_energia = list(serie_horaria)[-1]\n",
    "            dias = sorted(serie_horaria[(serie_horaria['AÑO'] == ano) &\n",
    "                        (serie_horaria['MES'] == mes)][\"DIA\"].unique())\n",
    "            ghi_mes = serie_horaria.loc[((serie_horaria[\"AÑO\"] == ano)\n",
    "                            & (serie_horaria[\"MES\"] == mes)),\n",
    "                                        nombre_energia].sum()/1000\n",
    "            ghi_dict = {\"AÑO\":ano, \"MES\":mes, \"DIAS\":dias[-1],\n",
    "                        \"GHImes\":ghi_mes}\n",
    "            ghi_df = ghi_df.append(ghi_dict, ignore_index=True)\n",
    "    return ghi_df\n",
    "# Función que determina la radiación promedio por día de cada més\n",
    "def ghi_dia(serie_ghi_mensual,n):\n",
    "    agnos = sorted(serie_ghi_mensual['AÑO'].unique())\n",
    "    ghi_df = pd.DataFrame(columns=[\"AÑO\", \"MES\", \"GHIdiario\"])\n",
    "    for agno in agnos:\n",
    "        for mes in range(1,13):\n",
    "            dias = serie_ghi_mensual.loc[((serie_ghi_mensual[\"AÑO\"] == agno)\n",
    "                            & (serie_ghi_mensual[\"MES\"] == mes))\n",
    "                                         ,\"DIAS\"].item()\n",
    "            ghi_diario = serie_ghi_mensual.loc[(\n",
    "                (serie_ghi_mensual[\"AÑO\"] == agno)\n",
    "                            & (serie_ghi_mensual[\"MES\"] == mes)),\n",
    "                \"GHImes\"].item()/dias\n",
    "            ghi_dict = {\"AÑO\":agno, \"MES\":mes, \"GHIdiario\":ghi_diario}\n",
    "            ghi_df = ghi_df.append(ghi_dict, ignore_index=True)\n",
    "    return ghi_df"
   ]
  },
  {
   "cell_type": "code",
   "execution_count": 81,
   "metadata": {
    "collapsed": true
   },
   "outputs": [],
   "source": [
    "ghi_mensual_loc = ghi_mensual(serie_pd)\n",
    "ghi_diario_loc = ghi_dia(ghi_mensual_loc,12)\n",
    "datos_IDEAM = sorted(ghi_diario_loc[\"GHIdiario\"])"
   ]
  },
  {
   "cell_type": "code",
   "execution_count": 82,
   "metadata": {},
   "outputs": [
    {
     "name": "stdout",
     "output_type": "stream",
     "text": [
      "La ENFICC 99% es:  4.56900737661\n"
     ]
    }
   ],
   "source": [
    " percentil = 0.01\n",
    "enficc = ghi_diario_loc.quantile(q=percentil, \n",
    "                                 numeric_only=True)[\"GHIdiario\"]\n",
    "print('La ENFICC 99% es: ', enficc)"
   ]
  },
  {
   "cell_type": "markdown",
   "metadata": {},
   "source": [
    "# Ahora, se definira la función que ajustará la serie medida insitu contra los datos de la NREL"
   ]
  },
  {
   "cell_type": "code",
   "execution_count": 83,
   "metadata": {},
   "outputs": [],
   "source": [
    "ghiprueba = ghi_mensual_loc.loc[((ghi_mensual_loc[\"AÑO\"]==2006))]"
   ]
  },
  {
   "cell_type": "code",
   "execution_count": 100,
   "metadata": {
    "collapsed": true
   },
   "outputs": [],
   "source": [
    "def ghi_horario (serie):\n",
    "    nombre_energia = list(serie)[-1]\n",
    "    ghi_hora = serie.loc[((serie[\"AÑO\"]==2006) & (serie[\"MES\"] <= 2)), nombre_energia]\n",
    "    return ghi_hora"
   ]
  },
  {
   "cell_type": "code",
   "execution_count": 108,
   "metadata": {},
   "outputs": [],
   "source": [
    "def ajuste_mcp (serie_IDEAM,serie_NREL):\n",
    "    datos_IDEAM = ghi_horario(serie_IDEAM)\n",
    "    datos_NREL = ghi_horario(serie_NREL)\n",
    "    mediaX = datos_NREL.mean()\n",
    "    mediaY = datos_IDEAM.mean()\n",
    "    sigmaX = datos_IDEAM.var()\n",
    "    sigmaY = datos_NREL.var()\n",
    "    IDEAM_conCeros = (mediaY-((sigmaY/sigmaX)*mediaX))+(sigmaY/sigmaX)*datos_NREL\n",
    "    for each cell in IDEAM_conCeros\n",
    "    \n",
    "    return IDEAM_corregida"
   ]
  },
  {
   "cell_type": "code",
   "execution_count": 109,
   "metadata": {},
   "outputs": [
    {
     "data": {
      "text/plain": [
       "8760      -59.196942\n",
       "8761      -59.196942\n",
       "8762      -59.196942\n",
       "8763      -59.196942\n",
       "8764      -59.196942\n",
       "8765      -59.196942\n",
       "8766      -42.530616\n",
       "8767      148.844785\n",
       "8768      412.632501\n",
       "8769      650.558676\n",
       "8770      829.290657\n",
       "8771      931.587418\n",
       "8772      947.679044\n",
       "8773      875.841430\n",
       "8774      723.545691\n",
       "8775      506.308748\n",
       "8776      250.566846\n",
       "8777        1.146653\n",
       "8778      -59.196942\n",
       "8779      -59.196942\n",
       "8780      -59.196942\n",
       "8781      -59.196942\n",
       "8782      -59.196942\n",
       "8783      -59.196942\n",
       "8784      -59.196942\n",
       "8785      -59.196942\n",
       "8786      -59.196942\n",
       "8787      -59.196942\n",
       "8788      -59.196942\n",
       "8789      -59.196942\n",
       "            ...     \n",
       "10146     -59.196942\n",
       "10147     -59.196942\n",
       "10148     -59.196942\n",
       "10149     -59.196942\n",
       "10150     -59.196942\n",
       "10151     -59.196942\n",
       "10152     -59.196942\n",
       "10153     -59.196942\n",
       "10154     -59.196942\n",
       "10155     -59.196942\n",
       "10156     -59.196942\n",
       "10157     -59.196942\n",
       "10158     -38.507710\n",
       "10159     167.235214\n",
       "10160     447.689256\n",
       "10161     705.155262\n",
       "10162     904.001775\n",
       "10163    1024.114264\n",
       "10164    1053.998711\n",
       "10165     991.931013\n",
       "10166     843.083479\n",
       "10167     621.823630\n",
       "10168     353.438308\n",
       "10169      28.732296\n",
       "10170     -59.196942\n",
       "10171     -59.196942\n",
       "10172     -59.196942\n",
       "10173     -59.196942\n",
       "10174     -59.196942\n",
       "10175     -59.196942\n",
       "Name: NREL, Length: 1416, dtype: float64"
      ]
     },
     "execution_count": 109,
     "metadata": {},
     "output_type": "execute_result"
    }
   ],
   "source": []
  },
  {
   "cell_type": "code",
   "execution_count": null,
   "metadata": {
    "collapsed": true
   },
   "outputs": [],
   "source": []
  }
 ],
 "metadata": {
  "kernelspec": {
   "display_name": "Python 3",
   "language": "python",
   "name": "python3"
  },
  "language_info": {
   "codemirror_mode": {
    "name": "ipython",
    "version": 3
   },
   "file_extension": ".py",
   "mimetype": "text/x-python",
   "name": "python",
   "nbconvert_exporter": "python",
   "pygments_lexer": "ipython3",
   "version": "3.6.3"
  }
 },
 "nbformat": 4,
 "nbformat_minor": 2
}
