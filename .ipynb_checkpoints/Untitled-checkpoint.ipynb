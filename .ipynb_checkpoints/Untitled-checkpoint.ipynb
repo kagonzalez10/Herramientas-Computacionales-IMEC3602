{
 "cells": [
  {
   "cell_type": "code",
   "execution_count": null,
   "metadata": {
    "collapsed": true
   },
   "outputs": [],
   "source": [
    "def calculoPi(longitud, n):\n",
    "radio = float((longitud)/(math.sqrt(2-(2*((math.cos(math.radians(360/n))))))))\n",
    "diametro = 2*radio\n",
    "circunferencia = (longitud*n)\n",
    "return(float(circunferencia/diametro))"
   ]
  }
 ],
 "metadata": {
  "kernelspec": {
   "display_name": "Python 3",
   "language": "python",
   "name": "python3"
  },
  "language_info": {
   "codemirror_mode": {
    "name": "ipython",
    "version": 3
   },
   "file_extension": ".py",
   "mimetype": "text/x-python",
   "name": "python",
   "nbconvert_exporter": "python",
   "pygments_lexer": "ipython3",
   "version": "3.6.3"
  }
 },
 "nbformat": 4,
 "nbformat_minor": 2
}
