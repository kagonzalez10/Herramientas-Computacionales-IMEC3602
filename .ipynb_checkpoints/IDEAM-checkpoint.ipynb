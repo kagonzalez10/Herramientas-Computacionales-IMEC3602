{
 "cells": [
  {
   "cell_type": "code",
   "execution_count": 129,
   "metadata": {},
   "outputs": [
    {
     "name": "stdout",
     "output_type": "stream",
     "text": [
      "Populating the interactive namespace from numpy and matplotlib\n"
     ]
    }
   ],
   "source": [
    "import os\n",
    "import pandas as pd\n",
    "from scipy.stats import ks_2samp as ksi\n",
    "%pylab inline"
   ]
  },
  {
   "cell_type": "code",
   "execution_count": 130,
   "metadata": {
    "collapsed": true
   },
   "outputs": [],
   "source": [
    "# Se importan los datos IDEAM para alguna ciudad\n",
    "def importar_ciudad_IDEAM(ciudad):\n",
    "    base_dir = os.path.join( '.','IDEAMDATA','.','data')\n",
    "    output_dir = os.path.join( '.','output')\n",
    "    fuente = 'IDEAM'\n",
    "  \n",
    "    #Ciudad 1 NREL e IDEAM\n",
    "    serie_csv = os.path.join(base_dir,ciudad,fuente+'.csv')\n",
    "    serie_pd = pd.read_csv(serie_csv, sep = ';',encoding='latin-1')\n",
    "    return serie_pd"
   ]
  },
  {
   "cell_type": "code",
   "execution_count": 131,
   "metadata": {
    "collapsed": true
   },
   "outputs": [],
   "source": [
    "# Se importan los datos NREL para alguna ciudad\n",
    "def importar_ciudad_NREL(ciudad):\n",
    "    base_dir = os.path.join( '.','IDEAMDATA','.','data')\n",
    "    output_dir = os.path.join( '.','output')\n",
    "    fuente = 'NREL'\n",
    "    serie_NREL = os.path.join(base_dir,ciudad,fuente+'.csv')\n",
    "    data_NREL = pd.read_csv(serie_NREL, sep = ';', encoding='latin-1')\n",
    "    return data_NREL"
   ]
  },
  {
   "cell_type": "code",
   "execution_count": 132,
   "metadata": {
    "collapsed": true
   },
   "outputs": [],
   "source": [
    "# Función que determina la radiación mensual de la ciudad\n",
    "\n",
    "def ghi_mensual(serie_horaria,n):\n",
    "    anos = sorted(serie_horaria['AÑO'].unique())\n",
    "    ghi_df = pd.DataFrame(columns=[\"AÑO\", \"MES\", \"DIAS\", \"GHImes\"])\n",
    "    for ano in range:\n",
    "        for mes in range(1,n+1):\n",
    "            nombre_energia = list(serie_horaria)[-1]\n",
    "            dias = sorted(serie_horaria[(serie_horaria['AÑO'] == ano) &\n",
    "                        (serie_horaria['MES'] == mes)][\"DIA\"].unique())\n",
    "            ghi_mes = serie_horaria.loc[((serie_horaria[\"AÑO\"] == ano)\n",
    "                            & (serie_horaria[\"MES\"] == mes)),\n",
    "                                        nombre_energia].sum()/1000\n",
    "            ghi_dict = {\"AÑO\":ano, \"MES\":mes, \"DIAS\":dias[-1],\n",
    "                        \"GHImes\":ghi_mes}\n",
    "            ghi_df = ghi_df.append(ghi_dict, ignore_index=True)\n",
    "    return ghi_df\n",
    "# Función que determina la radiación promedio por día de cada més\n",
    "def ghi_dia(serie_ghi_mensual,n):\n",
    "    agnos = sorted(serie_ghi_mensual['AÑO'].unique())\n",
    "    ghi_df = pd.DataFrame(columns=[\"AÑO\", \"MES\", \"GHIdiario\"])\n",
    "    for agno in agnos:\n",
    "        for mes in range(1,n+1):\n",
    "            dias = serie_ghi_mensual.loc[((serie_ghi_mensual[\"AÑO\"] == agno)\n",
    "                            & (serie_ghi_mensual[\"MES\"] == mes))\n",
    "                                         ,\"DIAS\"].item()\n",
    "            ghi_diario = serie_ghi_mensual.loc[(\n",
    "                (serie_ghi_mensual[\"AÑO\"] == agno)\n",
    "                            & (serie_ghi_mensual[\"MES\"] == mes)),\n",
    "                \"GHImes\"].item()/dias\n",
    "            ghi_dict = {\"AÑO\":agno, \"MES\":mes, \"GHIdiario\":ghi_diario}\n",
    "            ghi_df = ghi_df.append(ghi_dict, ignore_index=True)\n",
    "    return ghi_df"
   ]
  },
  {
   "cell_type": "code",
   "execution_count": 133,
   "metadata": {
    "collapsed": true
   },
   "outputs": [],
   "source": [
    "def calculo_enficc(serie_horaria):\n",
    "    ghi_mensual_loc = ghi_mensual(serie_horaria,12)\n",
    "    ghi_diario_loc = ghi_dia(ghi_mensual_loc,12)\n",
    "    percentil = 0.01\n",
    "    enficc = ghi_diario_loc.quantile(q=percentil, \n",
    "                                 numeric_only=True)[\"GHIdiario\"]\n",
    "    print('La ENFICC 99% es: ', enficc)"
   ]
  },
  {
   "cell_type": "markdown",
   "metadata": {},
   "source": [
    "# Ahora, se definira la función que ajustará la serie medida insitu contra los datos de la NREL"
   ]
  },
  {
   "cell_type": "code",
   "execution_count": 134,
   "metadata": {
    "collapsed": true
   },
   "outputs": [],
   "source": [
    "def ajuste_mcp2 (serie_IDEAM,serie_NREL,ano,mes_fin):\n",
    "    #Se obtiene el DATAFRAME con el año y mes especificados (Resolución horaria)\n",
    "    serie_IDEAM_ajustada = pd.DataFrame()\n",
    "    ##### IDEAM ORGANIZACIÓN\n",
    "    ideams1 = serie_IDEAM.loc[((serie_IDEAM['AÑO']==ano)&(serie_IDEAM['MES']<=mes_fin)),'IDEAM']\n",
    "    ideams1.index = pd.RangeIndex(len(ideams1))\n",
    "    \n",
    "    ##### NREL ORGANIZACIÓN\n",
    "    NREL_especificada = serie_NREL.loc[((serie_NREL['AÑO']==ano)&(serie_NREL['MES']<=mes_fin)),'NREL']\n",
    "    NREL_especificada.index = pd.RangeIndex(len(NREL_especificada))\n",
    "    NREL_completa = serie_NREL.loc[:,'NREL']\n",
    "    NREL_completa.index = pd.RangeIndex(len(NREL_completa))\n",
    "    \n",
    "    #Se realiza las operaciones del IDEAM ajustado\n",
    "    mediaX = NREL_especificada.mean()\n",
    "    mediaY = ideams1.mean()\n",
    "    sigmaX = NREL_especificada.var()\n",
    "    sigmaY = ideams1.var()\n",
    "    valor = (mediaY-((sigmaY/sigmaX)*mediaX))+((sigmaY/sigmaX)*NREL_completa)\n",
    "    valor[valor<0]=0\n",
    "    \n",
    "    serie_IDEAM_ajustada['AÑO'] = serie_NREL.loc[:,'AÑO']\n",
    "    serie_IDEAM_ajustada['MES'] = serie_NREL.loc[:,'MES']\n",
    "    serie_IDEAM_ajustada['DIA'] = serie_NREL.loc[:,'DIA']\n",
    "    serie_IDEAM_ajustada['HORA'] = serie_NREL.loc[:,'HORA']\n",
    "    serie_IDEAM_ajustada['IDEAM'] = valor\n",
    "    return serie_IDEAM_ajustada"
   ]
  },
  {
   "cell_type": "code",
   "execution_count": 135,
   "metadata": {
    "collapsed": true
   },
   "outputs": [],
   "source": [
    "def grafico_ajuste(ciudad,serie_IDEAM,serie_NREL,ano1,ano2,mes_final):\n",
    "    serie_IDEAM_ajustada1 = ajuste_mcp2(serie_IDEAM,serie_NREL,ano1,mes_final)\n",
    "    serie_IDEAM_grafico1 = ghi_dia(ghi_mensual(serie_IDEAM_ajustada1,mes_final),mes_final).loc[:,'GHIdiario']\n",
    "    serie_NREL_grafico = ghi_dia(ghi_mensual(serie_NREL,mes_final),mes_final).loc[:,'GHIdiario']\n",
    "    \n",
    "    serie_IDEAM_ajustada2 = ajuste_mcp2(serie_IDEAM,serie_NREL,ano2,mes_final)\n",
    "    serie_IDEAM_grafico2= ghi_dia(ghi_mensual(serie_IDEAM_ajustada2,mes_final),mes_final).loc[:,'GHIdiario']\n",
    "\n",
    "    \n",
    "    plt.xlabel('Datos')\n",
    "    plt.ylabel('GHI Diario')\n",
    "    plt.plot(serie_IDEAM_grafico1,'-k', label='IDEAM '+ciudad +' '+str(ano1))\n",
    "    plt.plot(serie_IDEAM_grafico2,'-b', label='IDEAM '+ciudad +' '+str(ano2))\n",
    "    plt.plot(serie_NREL_grafico,'-r',label ='NREL '+ciudad)\n",
    "    \n",
    "    pylab.legend(loc='upper left')"
   ]
  },
  {
   "cell_type": "code",
   "execution_count": 136,
   "metadata": {
    "collapsed": true
   },
   "outputs": [],
   "source": [
    "def errores (serie_IDEAM_ajustada,serie_NREL):\n",
    "    n = len(serie_NREL)\n",
    "    IDEAM = serie_IDEAM_ajustada.loc[:,'IDEAM']\n",
    "    NREL = serie_NREL.loc[:,'NREL']\n",
    "    NREL_max = NREL.max()\n",
    "    NREL_min = NREL.min()\n",
    "    IDEAM_max = IDEAM.max()\n",
    "    IDEAM_min = IDEAM.min()\n",
    "    error_sesgo_medio = (sum(NREL-IDEAM))/IDEAM.sum()\n",
    "    RMS = (math.sqrt((sum((IDEAM-NREL)**2))/n))/(IDEAM_max-IDEAM_min)\n",
    "    KSI = ksi(IDEAM,NREL)\n",
    "    print (\"El error de sesgo medio es: \" , error_sesgo_medio)\n",
    "    print (\"El error RMSE es: \",RMS)\n",
    "    print (\"El índice KSI es:\" ,KSI)"
   ]
  },
  {
   "cell_type": "markdown",
   "metadata": {},
   "source": [
    "# Informe\n",
    "\n",
    " A continuación se mostrará un análisis realizado para dos ciudades diferentes (Valledupar y Barranquilla), mostrando gráficos y resultados de comparación. "
   ]
  },
  {
   "cell_type": "markdown",
   "metadata": {},
   "source": [
    "* Se introduce el código para importar los datos de las dos ciudades diferentes\n"
   ]
  },
  {
   "cell_type": "code",
   "execution_count": 137,
   "metadata": {
    "collapsed": true
   },
   "outputs": [],
   "source": [
    "valledupar_IDEAM = importar_ciudad_IDEAM('Valledupar')\n",
    "valledupar_NREL = importar_ciudad_NREL('Valledupar')\n",
    "barranquilla_IDEAM = importar_ciudad_IDEAM('Barranquilla')\n",
    "barranquilla_NREL = importar_ciudad_NREL('Barranquilla')"
   ]
  },
  {
   "cell_type": "markdown",
   "metadata": {
    "collapsed": true
   },
   "source": [
    "* Se introduce el procedimiento para calcular la ENFICC (99%) para las series IDEAM de las dos ciudades"
   ]
  },
  {
   "cell_type": "code",
   "execution_count": 138,
   "metadata": {},
   "outputs": [
    {
     "ename": "TypeError",
     "evalue": "'type' object is not iterable",
     "output_type": "error",
     "traceback": [
      "\u001b[0;31m---------------------------------------------------------------------------\u001b[0m",
      "\u001b[0;31mTypeError\u001b[0m                                 Traceback (most recent call last)",
      "\u001b[0;32m<ipython-input-138-481f07a80342>\u001b[0m in \u001b[0;36m<module>\u001b[0;34m()\u001b[0m\n\u001b[1;32m      1\u001b[0m \u001b[0;31m# Cálculo ENFICC para Valledupar\u001b[0m\u001b[0;34m\u001b[0m\u001b[0;34m\u001b[0m\u001b[0m\n\u001b[0;32m----> 2\u001b[0;31m \u001b[0mcalculo_enficc\u001b[0m\u001b[0;34m(\u001b[0m\u001b[0mvalledupar_IDEAM\u001b[0m\u001b[0;34m)\u001b[0m\u001b[0;34m\u001b[0m\u001b[0m\n\u001b[0m",
      "\u001b[0;32m<ipython-input-133-5522e27a5e39>\u001b[0m in \u001b[0;36mcalculo_enficc\u001b[0;34m(serie_horaria)\u001b[0m\n\u001b[1;32m      1\u001b[0m \u001b[0;32mdef\u001b[0m \u001b[0mcalculo_enficc\u001b[0m\u001b[0;34m(\u001b[0m\u001b[0mserie_horaria\u001b[0m\u001b[0;34m)\u001b[0m\u001b[0;34m:\u001b[0m\u001b[0;34m\u001b[0m\u001b[0m\n\u001b[0;32m----> 2\u001b[0;31m     \u001b[0mghi_mensual_loc\u001b[0m \u001b[0;34m=\u001b[0m \u001b[0mghi_mensual\u001b[0m\u001b[0;34m(\u001b[0m\u001b[0mserie_horaria\u001b[0m\u001b[0;34m,\u001b[0m\u001b[0;36m12\u001b[0m\u001b[0;34m)\u001b[0m\u001b[0;34m\u001b[0m\u001b[0m\n\u001b[0m\u001b[1;32m      3\u001b[0m     \u001b[0mghi_diario_loc\u001b[0m \u001b[0;34m=\u001b[0m \u001b[0mghi_dia\u001b[0m\u001b[0;34m(\u001b[0m\u001b[0mghi_mensual_loc\u001b[0m\u001b[0;34m,\u001b[0m\u001b[0;36m12\u001b[0m\u001b[0;34m)\u001b[0m\u001b[0;34m\u001b[0m\u001b[0m\n\u001b[1;32m      4\u001b[0m     \u001b[0mpercentil\u001b[0m \u001b[0;34m=\u001b[0m \u001b[0;36m0.01\u001b[0m\u001b[0;34m\u001b[0m\u001b[0m\n\u001b[1;32m      5\u001b[0m     enficc = ghi_diario_loc.quantile(q=percentil, \n",
      "\u001b[0;32m<ipython-input-132-c8415962648a>\u001b[0m in \u001b[0;36mghi_mensual\u001b[0;34m(serie_horaria, n)\u001b[0m\n\u001b[1;32m      4\u001b[0m     \u001b[0manos\u001b[0m \u001b[0;34m=\u001b[0m \u001b[0msorted\u001b[0m\u001b[0;34m(\u001b[0m\u001b[0mserie_horaria\u001b[0m\u001b[0;34m[\u001b[0m\u001b[0;34m'AÑO'\u001b[0m\u001b[0;34m]\u001b[0m\u001b[0;34m.\u001b[0m\u001b[0munique\u001b[0m\u001b[0;34m(\u001b[0m\u001b[0;34m)\u001b[0m\u001b[0;34m)\u001b[0m\u001b[0;34m\u001b[0m\u001b[0m\n\u001b[1;32m      5\u001b[0m     \u001b[0mghi_df\u001b[0m \u001b[0;34m=\u001b[0m \u001b[0mpd\u001b[0m\u001b[0;34m.\u001b[0m\u001b[0mDataFrame\u001b[0m\u001b[0;34m(\u001b[0m\u001b[0mcolumns\u001b[0m\u001b[0;34m=\u001b[0m\u001b[0;34m[\u001b[0m\u001b[0;34m\"AÑO\"\u001b[0m\u001b[0;34m,\u001b[0m \u001b[0;34m\"MES\"\u001b[0m\u001b[0;34m,\u001b[0m \u001b[0;34m\"DIAS\"\u001b[0m\u001b[0;34m,\u001b[0m \u001b[0;34m\"GHImes\"\u001b[0m\u001b[0;34m]\u001b[0m\u001b[0;34m)\u001b[0m\u001b[0;34m\u001b[0m\u001b[0m\n\u001b[0;32m----> 6\u001b[0;31m     \u001b[0;32mfor\u001b[0m \u001b[0mano\u001b[0m \u001b[0;32min\u001b[0m \u001b[0mrange\u001b[0m\u001b[0;34m:\u001b[0m\u001b[0;34m\u001b[0m\u001b[0m\n\u001b[0m\u001b[1;32m      7\u001b[0m         \u001b[0;32mfor\u001b[0m \u001b[0mmes\u001b[0m \u001b[0;32min\u001b[0m \u001b[0mrange\u001b[0m\u001b[0;34m(\u001b[0m\u001b[0;36m1\u001b[0m\u001b[0;34m,\u001b[0m\u001b[0mn\u001b[0m\u001b[0;34m+\u001b[0m\u001b[0;36m1\u001b[0m\u001b[0;34m)\u001b[0m\u001b[0;34m:\u001b[0m\u001b[0;34m\u001b[0m\u001b[0m\n\u001b[1;32m      8\u001b[0m             \u001b[0mnombre_energia\u001b[0m \u001b[0;34m=\u001b[0m \u001b[0mlist\u001b[0m\u001b[0;34m(\u001b[0m\u001b[0mserie_horaria\u001b[0m\u001b[0;34m)\u001b[0m\u001b[0;34m[\u001b[0m\u001b[0;34m-\u001b[0m\u001b[0;36m1\u001b[0m\u001b[0;34m]\u001b[0m\u001b[0;34m\u001b[0m\u001b[0m\n",
      "\u001b[0;31mTypeError\u001b[0m: 'type' object is not iterable"
     ]
    }
   ],
   "source": [
    "# Cálculo ENFICC para Valledupar\n",
    "calculo_enficc(valledupar_IDEAM)"
   ]
  },
  {
   "cell_type": "code",
   "execution_count": 139,
   "metadata": {},
   "outputs": [
    {
     "ename": "TypeError",
     "evalue": "'type' object is not iterable",
     "output_type": "error",
     "traceback": [
      "\u001b[0;31m---------------------------------------------------------------------------\u001b[0m",
      "\u001b[0;31mTypeError\u001b[0m                                 Traceback (most recent call last)",
      "\u001b[0;32m<ipython-input-139-d6d2549abd2e>\u001b[0m in \u001b[0;36m<module>\u001b[0;34m()\u001b[0m\n\u001b[1;32m      1\u001b[0m \u001b[0;31m# Cálculo ENFICC para Barranquilla\u001b[0m\u001b[0;34m\u001b[0m\u001b[0;34m\u001b[0m\u001b[0m\n\u001b[0;32m----> 2\u001b[0;31m \u001b[0mcalculo_enficc\u001b[0m\u001b[0;34m(\u001b[0m\u001b[0mbarranquilla_IDEAM\u001b[0m\u001b[0;34m)\u001b[0m\u001b[0;34m\u001b[0m\u001b[0m\n\u001b[0m",
      "\u001b[0;32m<ipython-input-133-5522e27a5e39>\u001b[0m in \u001b[0;36mcalculo_enficc\u001b[0;34m(serie_horaria)\u001b[0m\n\u001b[1;32m      1\u001b[0m \u001b[0;32mdef\u001b[0m \u001b[0mcalculo_enficc\u001b[0m\u001b[0;34m(\u001b[0m\u001b[0mserie_horaria\u001b[0m\u001b[0;34m)\u001b[0m\u001b[0;34m:\u001b[0m\u001b[0;34m\u001b[0m\u001b[0m\n\u001b[0;32m----> 2\u001b[0;31m     \u001b[0mghi_mensual_loc\u001b[0m \u001b[0;34m=\u001b[0m \u001b[0mghi_mensual\u001b[0m\u001b[0;34m(\u001b[0m\u001b[0mserie_horaria\u001b[0m\u001b[0;34m,\u001b[0m\u001b[0;36m12\u001b[0m\u001b[0;34m)\u001b[0m\u001b[0;34m\u001b[0m\u001b[0m\n\u001b[0m\u001b[1;32m      3\u001b[0m     \u001b[0mghi_diario_loc\u001b[0m \u001b[0;34m=\u001b[0m \u001b[0mghi_dia\u001b[0m\u001b[0;34m(\u001b[0m\u001b[0mghi_mensual_loc\u001b[0m\u001b[0;34m,\u001b[0m\u001b[0;36m12\u001b[0m\u001b[0;34m)\u001b[0m\u001b[0;34m\u001b[0m\u001b[0m\n\u001b[1;32m      4\u001b[0m     \u001b[0mpercentil\u001b[0m \u001b[0;34m=\u001b[0m \u001b[0;36m0.01\u001b[0m\u001b[0;34m\u001b[0m\u001b[0m\n\u001b[1;32m      5\u001b[0m     enficc = ghi_diario_loc.quantile(q=percentil, \n",
      "\u001b[0;32m<ipython-input-132-c8415962648a>\u001b[0m in \u001b[0;36mghi_mensual\u001b[0;34m(serie_horaria, n)\u001b[0m\n\u001b[1;32m      4\u001b[0m     \u001b[0manos\u001b[0m \u001b[0;34m=\u001b[0m \u001b[0msorted\u001b[0m\u001b[0;34m(\u001b[0m\u001b[0mserie_horaria\u001b[0m\u001b[0;34m[\u001b[0m\u001b[0;34m'AÑO'\u001b[0m\u001b[0;34m]\u001b[0m\u001b[0;34m.\u001b[0m\u001b[0munique\u001b[0m\u001b[0;34m(\u001b[0m\u001b[0;34m)\u001b[0m\u001b[0;34m)\u001b[0m\u001b[0;34m\u001b[0m\u001b[0m\n\u001b[1;32m      5\u001b[0m     \u001b[0mghi_df\u001b[0m \u001b[0;34m=\u001b[0m \u001b[0mpd\u001b[0m\u001b[0;34m.\u001b[0m\u001b[0mDataFrame\u001b[0m\u001b[0;34m(\u001b[0m\u001b[0mcolumns\u001b[0m\u001b[0;34m=\u001b[0m\u001b[0;34m[\u001b[0m\u001b[0;34m\"AÑO\"\u001b[0m\u001b[0;34m,\u001b[0m \u001b[0;34m\"MES\"\u001b[0m\u001b[0;34m,\u001b[0m \u001b[0;34m\"DIAS\"\u001b[0m\u001b[0;34m,\u001b[0m \u001b[0;34m\"GHImes\"\u001b[0m\u001b[0;34m]\u001b[0m\u001b[0;34m)\u001b[0m\u001b[0;34m\u001b[0m\u001b[0m\n\u001b[0;32m----> 6\u001b[0;31m     \u001b[0;32mfor\u001b[0m \u001b[0mano\u001b[0m \u001b[0;32min\u001b[0m \u001b[0mrange\u001b[0m\u001b[0;34m:\u001b[0m\u001b[0;34m\u001b[0m\u001b[0m\n\u001b[0m\u001b[1;32m      7\u001b[0m         \u001b[0;32mfor\u001b[0m \u001b[0mmes\u001b[0m \u001b[0;32min\u001b[0m \u001b[0mrange\u001b[0m\u001b[0;34m(\u001b[0m\u001b[0;36m1\u001b[0m\u001b[0;34m,\u001b[0m\u001b[0mn\u001b[0m\u001b[0;34m+\u001b[0m\u001b[0;36m1\u001b[0m\u001b[0;34m)\u001b[0m\u001b[0;34m:\u001b[0m\u001b[0;34m\u001b[0m\u001b[0m\n\u001b[1;32m      8\u001b[0m             \u001b[0mnombre_energia\u001b[0m \u001b[0;34m=\u001b[0m \u001b[0mlist\u001b[0m\u001b[0;34m(\u001b[0m\u001b[0mserie_horaria\u001b[0m\u001b[0;34m)\u001b[0m\u001b[0;34m[\u001b[0m\u001b[0;34m-\u001b[0m\u001b[0;36m1\u001b[0m\u001b[0;34m]\u001b[0m\u001b[0;34m\u001b[0m\u001b[0m\n",
      "\u001b[0;31mTypeError\u001b[0m: 'type' object is not iterable"
     ]
    }
   ],
   "source": [
    "# Cálculo ENFICC para Barranquilla\n",
    "calculo_enficc(barranquilla_IDEAM)"
   ]
  },
  {
   "cell_type": "markdown",
   "metadata": {},
   "source": [
    "Se quiere realizar un ajuste de las mediciones realizadas en tierra en cada una de las ciudades mencionadas para así tener una aproximación de lo que será la radiación en todo el horizonte de tiempo"
   ]
  },
  {
   "cell_type": "markdown",
   "metadata": {},
   "source": [
    " * Se realiza el ajuste en un tres diferentes periodos (3,6 y 9 meses) y para dos años diferentes y se muestra el gráfico de las series ajusstadas después de realizar el promedio díario y mensual para cada una de ellas. "
   ]
  },
  {
   "cell_type": "code",
   "execution_count": 140,
   "metadata": {},
   "outputs": [
    {
     "ename": "TypeError",
     "evalue": "'type' object is not iterable",
     "output_type": "error",
     "traceback": [
      "\u001b[0;31m---------------------------------------------------------------------------\u001b[0m",
      "\u001b[0;31mTypeError\u001b[0m                                 Traceback (most recent call last)",
      "\u001b[0;32m<ipython-input-140-7356c6ddef3a>\u001b[0m in \u001b[0;36m<module>\u001b[0;34m()\u001b[0m\n\u001b[1;32m      1\u001b[0m \u001b[0;31m#VALLEDUPAR (2014 y 2012, Ajuste para un periodo de 3 meses)\u001b[0m\u001b[0;34m\u001b[0m\u001b[0;34m\u001b[0m\u001b[0m\n\u001b[0;32m----> 2\u001b[0;31m \u001b[0mgrafico_ajuste\u001b[0m\u001b[0;34m(\u001b[0m\u001b[0;34m'Valledupar'\u001b[0m\u001b[0;34m,\u001b[0m\u001b[0mvalledupar_IDEAM\u001b[0m\u001b[0;34m,\u001b[0m\u001b[0mvalledupar_NREL\u001b[0m\u001b[0;34m,\u001b[0m\u001b[0;36m2014\u001b[0m\u001b[0;34m,\u001b[0m\u001b[0;36m2012\u001b[0m\u001b[0;34m,\u001b[0m\u001b[0;36m3\u001b[0m\u001b[0;34m)\u001b[0m\u001b[0;34m\u001b[0m\u001b[0m\n\u001b[0m",
      "\u001b[0;32m<ipython-input-135-f411a5a74c51>\u001b[0m in \u001b[0;36mgrafico_ajuste\u001b[0;34m(ciudad, serie_IDEAM, serie_NREL, ano1, ano2, mes_final)\u001b[0m\n\u001b[1;32m      1\u001b[0m \u001b[0;32mdef\u001b[0m \u001b[0mgrafico_ajuste\u001b[0m\u001b[0;34m(\u001b[0m\u001b[0mciudad\u001b[0m\u001b[0;34m,\u001b[0m\u001b[0mserie_IDEAM\u001b[0m\u001b[0;34m,\u001b[0m\u001b[0mserie_NREL\u001b[0m\u001b[0;34m,\u001b[0m\u001b[0mano1\u001b[0m\u001b[0;34m,\u001b[0m\u001b[0mano2\u001b[0m\u001b[0;34m,\u001b[0m\u001b[0mmes_final\u001b[0m\u001b[0;34m)\u001b[0m\u001b[0;34m:\u001b[0m\u001b[0;34m\u001b[0m\u001b[0m\n\u001b[1;32m      2\u001b[0m     \u001b[0mserie_IDEAM_ajustada1\u001b[0m \u001b[0;34m=\u001b[0m \u001b[0majuste_mcp2\u001b[0m\u001b[0;34m(\u001b[0m\u001b[0mserie_IDEAM\u001b[0m\u001b[0;34m,\u001b[0m\u001b[0mserie_NREL\u001b[0m\u001b[0;34m,\u001b[0m\u001b[0mano1\u001b[0m\u001b[0;34m,\u001b[0m\u001b[0mmes_final\u001b[0m\u001b[0;34m)\u001b[0m\u001b[0;34m\u001b[0m\u001b[0m\n\u001b[0;32m----> 3\u001b[0;31m     \u001b[0mserie_IDEAM_grafico1\u001b[0m \u001b[0;34m=\u001b[0m \u001b[0mghi_dia\u001b[0m\u001b[0;34m(\u001b[0m\u001b[0mghi_mensual\u001b[0m\u001b[0;34m(\u001b[0m\u001b[0mserie_IDEAM_ajustada1\u001b[0m\u001b[0;34m,\u001b[0m\u001b[0mmes_final\u001b[0m\u001b[0;34m)\u001b[0m\u001b[0;34m,\u001b[0m\u001b[0mmes_final\u001b[0m\u001b[0;34m)\u001b[0m\u001b[0;34m.\u001b[0m\u001b[0mloc\u001b[0m\u001b[0;34m[\u001b[0m\u001b[0;34m:\u001b[0m\u001b[0;34m,\u001b[0m\u001b[0;34m'GHIdiario'\u001b[0m\u001b[0;34m]\u001b[0m\u001b[0;34m\u001b[0m\u001b[0m\n\u001b[0m\u001b[1;32m      4\u001b[0m     \u001b[0mserie_NREL_grafico\u001b[0m \u001b[0;34m=\u001b[0m \u001b[0mghi_dia\u001b[0m\u001b[0;34m(\u001b[0m\u001b[0mghi_mensual\u001b[0m\u001b[0;34m(\u001b[0m\u001b[0mserie_NREL\u001b[0m\u001b[0;34m,\u001b[0m\u001b[0mmes_final\u001b[0m\u001b[0;34m)\u001b[0m\u001b[0;34m,\u001b[0m\u001b[0mmes_final\u001b[0m\u001b[0;34m)\u001b[0m\u001b[0;34m.\u001b[0m\u001b[0mloc\u001b[0m\u001b[0;34m[\u001b[0m\u001b[0;34m:\u001b[0m\u001b[0;34m,\u001b[0m\u001b[0;34m'GHIdiario'\u001b[0m\u001b[0;34m]\u001b[0m\u001b[0;34m\u001b[0m\u001b[0m\n\u001b[1;32m      5\u001b[0m \u001b[0;34m\u001b[0m\u001b[0m\n",
      "\u001b[0;32m<ipython-input-132-c8415962648a>\u001b[0m in \u001b[0;36mghi_mensual\u001b[0;34m(serie_horaria, n)\u001b[0m\n\u001b[1;32m      4\u001b[0m     \u001b[0manos\u001b[0m \u001b[0;34m=\u001b[0m \u001b[0msorted\u001b[0m\u001b[0;34m(\u001b[0m\u001b[0mserie_horaria\u001b[0m\u001b[0;34m[\u001b[0m\u001b[0;34m'AÑO'\u001b[0m\u001b[0;34m]\u001b[0m\u001b[0;34m.\u001b[0m\u001b[0munique\u001b[0m\u001b[0;34m(\u001b[0m\u001b[0;34m)\u001b[0m\u001b[0;34m)\u001b[0m\u001b[0;34m\u001b[0m\u001b[0m\n\u001b[1;32m      5\u001b[0m     \u001b[0mghi_df\u001b[0m \u001b[0;34m=\u001b[0m \u001b[0mpd\u001b[0m\u001b[0;34m.\u001b[0m\u001b[0mDataFrame\u001b[0m\u001b[0;34m(\u001b[0m\u001b[0mcolumns\u001b[0m\u001b[0;34m=\u001b[0m\u001b[0;34m[\u001b[0m\u001b[0;34m\"AÑO\"\u001b[0m\u001b[0;34m,\u001b[0m \u001b[0;34m\"MES\"\u001b[0m\u001b[0;34m,\u001b[0m \u001b[0;34m\"DIAS\"\u001b[0m\u001b[0;34m,\u001b[0m \u001b[0;34m\"GHImes\"\u001b[0m\u001b[0;34m]\u001b[0m\u001b[0;34m)\u001b[0m\u001b[0;34m\u001b[0m\u001b[0m\n\u001b[0;32m----> 6\u001b[0;31m     \u001b[0;32mfor\u001b[0m \u001b[0mano\u001b[0m \u001b[0;32min\u001b[0m \u001b[0mrange\u001b[0m\u001b[0;34m:\u001b[0m\u001b[0;34m\u001b[0m\u001b[0m\n\u001b[0m\u001b[1;32m      7\u001b[0m         \u001b[0;32mfor\u001b[0m \u001b[0mmes\u001b[0m \u001b[0;32min\u001b[0m \u001b[0mrange\u001b[0m\u001b[0;34m(\u001b[0m\u001b[0;36m1\u001b[0m\u001b[0;34m,\u001b[0m\u001b[0mn\u001b[0m\u001b[0;34m+\u001b[0m\u001b[0;36m1\u001b[0m\u001b[0;34m)\u001b[0m\u001b[0;34m:\u001b[0m\u001b[0;34m\u001b[0m\u001b[0m\n\u001b[1;32m      8\u001b[0m             \u001b[0mnombre_energia\u001b[0m \u001b[0;34m=\u001b[0m \u001b[0mlist\u001b[0m\u001b[0;34m(\u001b[0m\u001b[0mserie_horaria\u001b[0m\u001b[0;34m)\u001b[0m\u001b[0;34m[\u001b[0m\u001b[0;34m-\u001b[0m\u001b[0;36m1\u001b[0m\u001b[0;34m]\u001b[0m\u001b[0;34m\u001b[0m\u001b[0m\n",
      "\u001b[0;31mTypeError\u001b[0m: 'type' object is not iterable"
     ]
    }
   ],
   "source": [
    "#VALLEDUPAR (2014 y 2012, Ajuste para un periodo de 3 meses)\n",
    "grafico_ajuste('Valledupar',valledupar_IDEAM,valledupar_NREL,2014,2012,3)"
   ]
  },
  {
   "cell_type": "code",
   "execution_count": 141,
   "metadata": {},
   "outputs": [
    {
     "ename": "TypeError",
     "evalue": "'type' object is not iterable",
     "output_type": "error",
     "traceback": [
      "\u001b[0;31m---------------------------------------------------------------------------\u001b[0m",
      "\u001b[0;31mTypeError\u001b[0m                                 Traceback (most recent call last)",
      "\u001b[0;32m<ipython-input-141-f6405f072ede>\u001b[0m in \u001b[0;36m<module>\u001b[0;34m()\u001b[0m\n\u001b[1;32m      1\u001b[0m \u001b[0;31m#VALLEDUPAR (2014 y 2012, Ajuste para un periodo de 6 meses)\u001b[0m\u001b[0;34m\u001b[0m\u001b[0;34m\u001b[0m\u001b[0m\n\u001b[0;32m----> 2\u001b[0;31m \u001b[0mgrafico_ajuste\u001b[0m\u001b[0;34m(\u001b[0m\u001b[0;34m'Valledupar'\u001b[0m\u001b[0;34m,\u001b[0m\u001b[0mvalledupar_IDEAM\u001b[0m\u001b[0;34m,\u001b[0m\u001b[0mvalledupar_NREL\u001b[0m\u001b[0;34m,\u001b[0m\u001b[0;36m2014\u001b[0m\u001b[0;34m,\u001b[0m\u001b[0;36m2012\u001b[0m\u001b[0;34m,\u001b[0m\u001b[0;36m6\u001b[0m\u001b[0;34m)\u001b[0m\u001b[0;34m\u001b[0m\u001b[0m\n\u001b[0m",
      "\u001b[0;32m<ipython-input-135-f411a5a74c51>\u001b[0m in \u001b[0;36mgrafico_ajuste\u001b[0;34m(ciudad, serie_IDEAM, serie_NREL, ano1, ano2, mes_final)\u001b[0m\n\u001b[1;32m      1\u001b[0m \u001b[0;32mdef\u001b[0m \u001b[0mgrafico_ajuste\u001b[0m\u001b[0;34m(\u001b[0m\u001b[0mciudad\u001b[0m\u001b[0;34m,\u001b[0m\u001b[0mserie_IDEAM\u001b[0m\u001b[0;34m,\u001b[0m\u001b[0mserie_NREL\u001b[0m\u001b[0;34m,\u001b[0m\u001b[0mano1\u001b[0m\u001b[0;34m,\u001b[0m\u001b[0mano2\u001b[0m\u001b[0;34m,\u001b[0m\u001b[0mmes_final\u001b[0m\u001b[0;34m)\u001b[0m\u001b[0;34m:\u001b[0m\u001b[0;34m\u001b[0m\u001b[0m\n\u001b[1;32m      2\u001b[0m     \u001b[0mserie_IDEAM_ajustada1\u001b[0m \u001b[0;34m=\u001b[0m \u001b[0majuste_mcp2\u001b[0m\u001b[0;34m(\u001b[0m\u001b[0mserie_IDEAM\u001b[0m\u001b[0;34m,\u001b[0m\u001b[0mserie_NREL\u001b[0m\u001b[0;34m,\u001b[0m\u001b[0mano1\u001b[0m\u001b[0;34m,\u001b[0m\u001b[0mmes_final\u001b[0m\u001b[0;34m)\u001b[0m\u001b[0;34m\u001b[0m\u001b[0m\n\u001b[0;32m----> 3\u001b[0;31m     \u001b[0mserie_IDEAM_grafico1\u001b[0m \u001b[0;34m=\u001b[0m \u001b[0mghi_dia\u001b[0m\u001b[0;34m(\u001b[0m\u001b[0mghi_mensual\u001b[0m\u001b[0;34m(\u001b[0m\u001b[0mserie_IDEAM_ajustada1\u001b[0m\u001b[0;34m,\u001b[0m\u001b[0mmes_final\u001b[0m\u001b[0;34m)\u001b[0m\u001b[0;34m,\u001b[0m\u001b[0mmes_final\u001b[0m\u001b[0;34m)\u001b[0m\u001b[0;34m.\u001b[0m\u001b[0mloc\u001b[0m\u001b[0;34m[\u001b[0m\u001b[0;34m:\u001b[0m\u001b[0;34m,\u001b[0m\u001b[0;34m'GHIdiario'\u001b[0m\u001b[0;34m]\u001b[0m\u001b[0;34m\u001b[0m\u001b[0m\n\u001b[0m\u001b[1;32m      4\u001b[0m     \u001b[0mserie_NREL_grafico\u001b[0m \u001b[0;34m=\u001b[0m \u001b[0mghi_dia\u001b[0m\u001b[0;34m(\u001b[0m\u001b[0mghi_mensual\u001b[0m\u001b[0;34m(\u001b[0m\u001b[0mserie_NREL\u001b[0m\u001b[0;34m,\u001b[0m\u001b[0mmes_final\u001b[0m\u001b[0;34m)\u001b[0m\u001b[0;34m,\u001b[0m\u001b[0mmes_final\u001b[0m\u001b[0;34m)\u001b[0m\u001b[0;34m.\u001b[0m\u001b[0mloc\u001b[0m\u001b[0;34m[\u001b[0m\u001b[0;34m:\u001b[0m\u001b[0;34m,\u001b[0m\u001b[0;34m'GHIdiario'\u001b[0m\u001b[0;34m]\u001b[0m\u001b[0;34m\u001b[0m\u001b[0m\n\u001b[1;32m      5\u001b[0m \u001b[0;34m\u001b[0m\u001b[0m\n",
      "\u001b[0;32m<ipython-input-132-c8415962648a>\u001b[0m in \u001b[0;36mghi_mensual\u001b[0;34m(serie_horaria, n)\u001b[0m\n\u001b[1;32m      4\u001b[0m     \u001b[0manos\u001b[0m \u001b[0;34m=\u001b[0m \u001b[0msorted\u001b[0m\u001b[0;34m(\u001b[0m\u001b[0mserie_horaria\u001b[0m\u001b[0;34m[\u001b[0m\u001b[0;34m'AÑO'\u001b[0m\u001b[0;34m]\u001b[0m\u001b[0;34m.\u001b[0m\u001b[0munique\u001b[0m\u001b[0;34m(\u001b[0m\u001b[0;34m)\u001b[0m\u001b[0;34m)\u001b[0m\u001b[0;34m\u001b[0m\u001b[0m\n\u001b[1;32m      5\u001b[0m     \u001b[0mghi_df\u001b[0m \u001b[0;34m=\u001b[0m \u001b[0mpd\u001b[0m\u001b[0;34m.\u001b[0m\u001b[0mDataFrame\u001b[0m\u001b[0;34m(\u001b[0m\u001b[0mcolumns\u001b[0m\u001b[0;34m=\u001b[0m\u001b[0;34m[\u001b[0m\u001b[0;34m\"AÑO\"\u001b[0m\u001b[0;34m,\u001b[0m \u001b[0;34m\"MES\"\u001b[0m\u001b[0;34m,\u001b[0m \u001b[0;34m\"DIAS\"\u001b[0m\u001b[0;34m,\u001b[0m \u001b[0;34m\"GHImes\"\u001b[0m\u001b[0;34m]\u001b[0m\u001b[0;34m)\u001b[0m\u001b[0;34m\u001b[0m\u001b[0m\n\u001b[0;32m----> 6\u001b[0;31m     \u001b[0;32mfor\u001b[0m \u001b[0mano\u001b[0m \u001b[0;32min\u001b[0m \u001b[0mrange\u001b[0m\u001b[0;34m:\u001b[0m\u001b[0;34m\u001b[0m\u001b[0m\n\u001b[0m\u001b[1;32m      7\u001b[0m         \u001b[0;32mfor\u001b[0m \u001b[0mmes\u001b[0m \u001b[0;32min\u001b[0m \u001b[0mrange\u001b[0m\u001b[0;34m(\u001b[0m\u001b[0;36m1\u001b[0m\u001b[0;34m,\u001b[0m\u001b[0mn\u001b[0m\u001b[0;34m+\u001b[0m\u001b[0;36m1\u001b[0m\u001b[0;34m)\u001b[0m\u001b[0;34m:\u001b[0m\u001b[0;34m\u001b[0m\u001b[0m\n\u001b[1;32m      8\u001b[0m             \u001b[0mnombre_energia\u001b[0m \u001b[0;34m=\u001b[0m \u001b[0mlist\u001b[0m\u001b[0;34m(\u001b[0m\u001b[0mserie_horaria\u001b[0m\u001b[0;34m)\u001b[0m\u001b[0;34m[\u001b[0m\u001b[0;34m-\u001b[0m\u001b[0;36m1\u001b[0m\u001b[0;34m]\u001b[0m\u001b[0;34m\u001b[0m\u001b[0m\n",
      "\u001b[0;31mTypeError\u001b[0m: 'type' object is not iterable"
     ]
    }
   ],
   "source": [
    "#VALLEDUPAR (2014 y 2012, Ajuste para un periodo de 6 meses)\n",
    "grafico_ajuste('Valledupar',valledupar_IDEAM,valledupar_NREL,2014,2012,6)"
   ]
  },
  {
   "cell_type": "code",
   "execution_count": 142,
   "metadata": {},
   "outputs": [
    {
     "ename": "TypeError",
     "evalue": "'type' object is not iterable",
     "output_type": "error",
     "traceback": [
      "\u001b[0;31m---------------------------------------------------------------------------\u001b[0m",
      "\u001b[0;31mTypeError\u001b[0m                                 Traceback (most recent call last)",
      "\u001b[0;32m<ipython-input-142-a5b40cdd2c5f>\u001b[0m in \u001b[0;36m<module>\u001b[0;34m()\u001b[0m\n\u001b[1;32m      1\u001b[0m \u001b[0;31m#VALLEDUPAR (2014 y 2012, Ajuste para un periodo de 9 meses)\u001b[0m\u001b[0;34m\u001b[0m\u001b[0;34m\u001b[0m\u001b[0m\n\u001b[0;32m----> 2\u001b[0;31m \u001b[0mgrafico_ajuste\u001b[0m\u001b[0;34m(\u001b[0m\u001b[0;34m'Valledupar'\u001b[0m\u001b[0;34m,\u001b[0m\u001b[0mvalledupar_IDEAM\u001b[0m\u001b[0;34m,\u001b[0m\u001b[0mvalledupar_NREL\u001b[0m\u001b[0;34m,\u001b[0m\u001b[0;36m2014\u001b[0m\u001b[0;34m,\u001b[0m\u001b[0;36m2012\u001b[0m\u001b[0;34m,\u001b[0m\u001b[0;36m9\u001b[0m\u001b[0;34m)\u001b[0m\u001b[0;34m\u001b[0m\u001b[0m\n\u001b[0m",
      "\u001b[0;32m<ipython-input-135-f411a5a74c51>\u001b[0m in \u001b[0;36mgrafico_ajuste\u001b[0;34m(ciudad, serie_IDEAM, serie_NREL, ano1, ano2, mes_final)\u001b[0m\n\u001b[1;32m      1\u001b[0m \u001b[0;32mdef\u001b[0m \u001b[0mgrafico_ajuste\u001b[0m\u001b[0;34m(\u001b[0m\u001b[0mciudad\u001b[0m\u001b[0;34m,\u001b[0m\u001b[0mserie_IDEAM\u001b[0m\u001b[0;34m,\u001b[0m\u001b[0mserie_NREL\u001b[0m\u001b[0;34m,\u001b[0m\u001b[0mano1\u001b[0m\u001b[0;34m,\u001b[0m\u001b[0mano2\u001b[0m\u001b[0;34m,\u001b[0m\u001b[0mmes_final\u001b[0m\u001b[0;34m)\u001b[0m\u001b[0;34m:\u001b[0m\u001b[0;34m\u001b[0m\u001b[0m\n\u001b[1;32m      2\u001b[0m     \u001b[0mserie_IDEAM_ajustada1\u001b[0m \u001b[0;34m=\u001b[0m \u001b[0majuste_mcp2\u001b[0m\u001b[0;34m(\u001b[0m\u001b[0mserie_IDEAM\u001b[0m\u001b[0;34m,\u001b[0m\u001b[0mserie_NREL\u001b[0m\u001b[0;34m,\u001b[0m\u001b[0mano1\u001b[0m\u001b[0;34m,\u001b[0m\u001b[0mmes_final\u001b[0m\u001b[0;34m)\u001b[0m\u001b[0;34m\u001b[0m\u001b[0m\n\u001b[0;32m----> 3\u001b[0;31m     \u001b[0mserie_IDEAM_grafico1\u001b[0m \u001b[0;34m=\u001b[0m \u001b[0mghi_dia\u001b[0m\u001b[0;34m(\u001b[0m\u001b[0mghi_mensual\u001b[0m\u001b[0;34m(\u001b[0m\u001b[0mserie_IDEAM_ajustada1\u001b[0m\u001b[0;34m,\u001b[0m\u001b[0mmes_final\u001b[0m\u001b[0;34m)\u001b[0m\u001b[0;34m,\u001b[0m\u001b[0mmes_final\u001b[0m\u001b[0;34m)\u001b[0m\u001b[0;34m.\u001b[0m\u001b[0mloc\u001b[0m\u001b[0;34m[\u001b[0m\u001b[0;34m:\u001b[0m\u001b[0;34m,\u001b[0m\u001b[0;34m'GHIdiario'\u001b[0m\u001b[0;34m]\u001b[0m\u001b[0;34m\u001b[0m\u001b[0m\n\u001b[0m\u001b[1;32m      4\u001b[0m     \u001b[0mserie_NREL_grafico\u001b[0m \u001b[0;34m=\u001b[0m \u001b[0mghi_dia\u001b[0m\u001b[0;34m(\u001b[0m\u001b[0mghi_mensual\u001b[0m\u001b[0;34m(\u001b[0m\u001b[0mserie_NREL\u001b[0m\u001b[0;34m,\u001b[0m\u001b[0mmes_final\u001b[0m\u001b[0;34m)\u001b[0m\u001b[0;34m,\u001b[0m\u001b[0mmes_final\u001b[0m\u001b[0;34m)\u001b[0m\u001b[0;34m.\u001b[0m\u001b[0mloc\u001b[0m\u001b[0;34m[\u001b[0m\u001b[0;34m:\u001b[0m\u001b[0;34m,\u001b[0m\u001b[0;34m'GHIdiario'\u001b[0m\u001b[0;34m]\u001b[0m\u001b[0;34m\u001b[0m\u001b[0m\n\u001b[1;32m      5\u001b[0m \u001b[0;34m\u001b[0m\u001b[0m\n",
      "\u001b[0;32m<ipython-input-132-c8415962648a>\u001b[0m in \u001b[0;36mghi_mensual\u001b[0;34m(serie_horaria, n)\u001b[0m\n\u001b[1;32m      4\u001b[0m     \u001b[0manos\u001b[0m \u001b[0;34m=\u001b[0m \u001b[0msorted\u001b[0m\u001b[0;34m(\u001b[0m\u001b[0mserie_horaria\u001b[0m\u001b[0;34m[\u001b[0m\u001b[0;34m'AÑO'\u001b[0m\u001b[0;34m]\u001b[0m\u001b[0;34m.\u001b[0m\u001b[0munique\u001b[0m\u001b[0;34m(\u001b[0m\u001b[0;34m)\u001b[0m\u001b[0;34m)\u001b[0m\u001b[0;34m\u001b[0m\u001b[0m\n\u001b[1;32m      5\u001b[0m     \u001b[0mghi_df\u001b[0m \u001b[0;34m=\u001b[0m \u001b[0mpd\u001b[0m\u001b[0;34m.\u001b[0m\u001b[0mDataFrame\u001b[0m\u001b[0;34m(\u001b[0m\u001b[0mcolumns\u001b[0m\u001b[0;34m=\u001b[0m\u001b[0;34m[\u001b[0m\u001b[0;34m\"AÑO\"\u001b[0m\u001b[0;34m,\u001b[0m \u001b[0;34m\"MES\"\u001b[0m\u001b[0;34m,\u001b[0m \u001b[0;34m\"DIAS\"\u001b[0m\u001b[0;34m,\u001b[0m \u001b[0;34m\"GHImes\"\u001b[0m\u001b[0;34m]\u001b[0m\u001b[0;34m)\u001b[0m\u001b[0;34m\u001b[0m\u001b[0m\n\u001b[0;32m----> 6\u001b[0;31m     \u001b[0;32mfor\u001b[0m \u001b[0mano\u001b[0m \u001b[0;32min\u001b[0m \u001b[0mrange\u001b[0m\u001b[0;34m:\u001b[0m\u001b[0;34m\u001b[0m\u001b[0m\n\u001b[0m\u001b[1;32m      7\u001b[0m         \u001b[0;32mfor\u001b[0m \u001b[0mmes\u001b[0m \u001b[0;32min\u001b[0m \u001b[0mrange\u001b[0m\u001b[0;34m(\u001b[0m\u001b[0;36m1\u001b[0m\u001b[0;34m,\u001b[0m\u001b[0mn\u001b[0m\u001b[0;34m+\u001b[0m\u001b[0;36m1\u001b[0m\u001b[0;34m)\u001b[0m\u001b[0;34m:\u001b[0m\u001b[0;34m\u001b[0m\u001b[0m\n\u001b[1;32m      8\u001b[0m             \u001b[0mnombre_energia\u001b[0m \u001b[0;34m=\u001b[0m \u001b[0mlist\u001b[0m\u001b[0;34m(\u001b[0m\u001b[0mserie_horaria\u001b[0m\u001b[0;34m)\u001b[0m\u001b[0;34m[\u001b[0m\u001b[0;34m-\u001b[0m\u001b[0;36m1\u001b[0m\u001b[0;34m]\u001b[0m\u001b[0;34m\u001b[0m\u001b[0m\n",
      "\u001b[0;31mTypeError\u001b[0m: 'type' object is not iterable"
     ]
    }
   ],
   "source": [
    "#VALLEDUPAR (2014 y 2012, Ajuste para un periodo de 9 meses)\n",
    "grafico_ajuste('Valledupar',valledupar_IDEAM,valledupar_NREL,2014,2012,9)"
   ]
  },
  {
   "cell_type": "code",
   "execution_count": 143,
   "metadata": {},
   "outputs": [
    {
     "ename": "TypeError",
     "evalue": "'type' object is not iterable",
     "output_type": "error",
     "traceback": [
      "\u001b[0;31m---------------------------------------------------------------------------\u001b[0m",
      "\u001b[0;31mTypeError\u001b[0m                                 Traceback (most recent call last)",
      "\u001b[0;32m<ipython-input-143-9d830aef83f5>\u001b[0m in \u001b[0;36m<module>\u001b[0;34m()\u001b[0m\n\u001b[1;32m      1\u001b[0m \u001b[0;31m#BARRANQUILLA (2014 y 2012, Ajuste para un periodo de 3 meses)\u001b[0m\u001b[0;34m\u001b[0m\u001b[0;34m\u001b[0m\u001b[0m\n\u001b[0;32m----> 2\u001b[0;31m \u001b[0mgrafico_ajuste\u001b[0m\u001b[0;34m(\u001b[0m\u001b[0;34m'Barranquilla'\u001b[0m\u001b[0;34m,\u001b[0m\u001b[0mbarranquilla_IDEAM\u001b[0m\u001b[0;34m,\u001b[0m\u001b[0mbarranquilla_NREL\u001b[0m\u001b[0;34m,\u001b[0m\u001b[0;36m2014\u001b[0m\u001b[0;34m,\u001b[0m\u001b[0;36m2012\u001b[0m\u001b[0;34m,\u001b[0m\u001b[0;36m3\u001b[0m\u001b[0;34m)\u001b[0m\u001b[0;34m\u001b[0m\u001b[0m\n\u001b[0m",
      "\u001b[0;32m<ipython-input-135-f411a5a74c51>\u001b[0m in \u001b[0;36mgrafico_ajuste\u001b[0;34m(ciudad, serie_IDEAM, serie_NREL, ano1, ano2, mes_final)\u001b[0m\n\u001b[1;32m      1\u001b[0m \u001b[0;32mdef\u001b[0m \u001b[0mgrafico_ajuste\u001b[0m\u001b[0;34m(\u001b[0m\u001b[0mciudad\u001b[0m\u001b[0;34m,\u001b[0m\u001b[0mserie_IDEAM\u001b[0m\u001b[0;34m,\u001b[0m\u001b[0mserie_NREL\u001b[0m\u001b[0;34m,\u001b[0m\u001b[0mano1\u001b[0m\u001b[0;34m,\u001b[0m\u001b[0mano2\u001b[0m\u001b[0;34m,\u001b[0m\u001b[0mmes_final\u001b[0m\u001b[0;34m)\u001b[0m\u001b[0;34m:\u001b[0m\u001b[0;34m\u001b[0m\u001b[0m\n\u001b[1;32m      2\u001b[0m     \u001b[0mserie_IDEAM_ajustada1\u001b[0m \u001b[0;34m=\u001b[0m \u001b[0majuste_mcp2\u001b[0m\u001b[0;34m(\u001b[0m\u001b[0mserie_IDEAM\u001b[0m\u001b[0;34m,\u001b[0m\u001b[0mserie_NREL\u001b[0m\u001b[0;34m,\u001b[0m\u001b[0mano1\u001b[0m\u001b[0;34m,\u001b[0m\u001b[0mmes_final\u001b[0m\u001b[0;34m)\u001b[0m\u001b[0;34m\u001b[0m\u001b[0m\n\u001b[0;32m----> 3\u001b[0;31m     \u001b[0mserie_IDEAM_grafico1\u001b[0m \u001b[0;34m=\u001b[0m \u001b[0mghi_dia\u001b[0m\u001b[0;34m(\u001b[0m\u001b[0mghi_mensual\u001b[0m\u001b[0;34m(\u001b[0m\u001b[0mserie_IDEAM_ajustada1\u001b[0m\u001b[0;34m,\u001b[0m\u001b[0mmes_final\u001b[0m\u001b[0;34m)\u001b[0m\u001b[0;34m,\u001b[0m\u001b[0mmes_final\u001b[0m\u001b[0;34m)\u001b[0m\u001b[0;34m.\u001b[0m\u001b[0mloc\u001b[0m\u001b[0;34m[\u001b[0m\u001b[0;34m:\u001b[0m\u001b[0;34m,\u001b[0m\u001b[0;34m'GHIdiario'\u001b[0m\u001b[0;34m]\u001b[0m\u001b[0;34m\u001b[0m\u001b[0m\n\u001b[0m\u001b[1;32m      4\u001b[0m     \u001b[0mserie_NREL_grafico\u001b[0m \u001b[0;34m=\u001b[0m \u001b[0mghi_dia\u001b[0m\u001b[0;34m(\u001b[0m\u001b[0mghi_mensual\u001b[0m\u001b[0;34m(\u001b[0m\u001b[0mserie_NREL\u001b[0m\u001b[0;34m,\u001b[0m\u001b[0mmes_final\u001b[0m\u001b[0;34m)\u001b[0m\u001b[0;34m,\u001b[0m\u001b[0mmes_final\u001b[0m\u001b[0;34m)\u001b[0m\u001b[0;34m.\u001b[0m\u001b[0mloc\u001b[0m\u001b[0;34m[\u001b[0m\u001b[0;34m:\u001b[0m\u001b[0;34m,\u001b[0m\u001b[0;34m'GHIdiario'\u001b[0m\u001b[0;34m]\u001b[0m\u001b[0;34m\u001b[0m\u001b[0m\n\u001b[1;32m      5\u001b[0m \u001b[0;34m\u001b[0m\u001b[0m\n",
      "\u001b[0;32m<ipython-input-132-c8415962648a>\u001b[0m in \u001b[0;36mghi_mensual\u001b[0;34m(serie_horaria, n)\u001b[0m\n\u001b[1;32m      4\u001b[0m     \u001b[0manos\u001b[0m \u001b[0;34m=\u001b[0m \u001b[0msorted\u001b[0m\u001b[0;34m(\u001b[0m\u001b[0mserie_horaria\u001b[0m\u001b[0;34m[\u001b[0m\u001b[0;34m'AÑO'\u001b[0m\u001b[0;34m]\u001b[0m\u001b[0;34m.\u001b[0m\u001b[0munique\u001b[0m\u001b[0;34m(\u001b[0m\u001b[0;34m)\u001b[0m\u001b[0;34m)\u001b[0m\u001b[0;34m\u001b[0m\u001b[0m\n\u001b[1;32m      5\u001b[0m     \u001b[0mghi_df\u001b[0m \u001b[0;34m=\u001b[0m \u001b[0mpd\u001b[0m\u001b[0;34m.\u001b[0m\u001b[0mDataFrame\u001b[0m\u001b[0;34m(\u001b[0m\u001b[0mcolumns\u001b[0m\u001b[0;34m=\u001b[0m\u001b[0;34m[\u001b[0m\u001b[0;34m\"AÑO\"\u001b[0m\u001b[0;34m,\u001b[0m \u001b[0;34m\"MES\"\u001b[0m\u001b[0;34m,\u001b[0m \u001b[0;34m\"DIAS\"\u001b[0m\u001b[0;34m,\u001b[0m \u001b[0;34m\"GHImes\"\u001b[0m\u001b[0;34m]\u001b[0m\u001b[0;34m)\u001b[0m\u001b[0;34m\u001b[0m\u001b[0m\n\u001b[0;32m----> 6\u001b[0;31m     \u001b[0;32mfor\u001b[0m \u001b[0mano\u001b[0m \u001b[0;32min\u001b[0m \u001b[0mrange\u001b[0m\u001b[0;34m:\u001b[0m\u001b[0;34m\u001b[0m\u001b[0m\n\u001b[0m\u001b[1;32m      7\u001b[0m         \u001b[0;32mfor\u001b[0m \u001b[0mmes\u001b[0m \u001b[0;32min\u001b[0m \u001b[0mrange\u001b[0m\u001b[0;34m(\u001b[0m\u001b[0;36m1\u001b[0m\u001b[0;34m,\u001b[0m\u001b[0mn\u001b[0m\u001b[0;34m+\u001b[0m\u001b[0;36m1\u001b[0m\u001b[0;34m)\u001b[0m\u001b[0;34m:\u001b[0m\u001b[0;34m\u001b[0m\u001b[0m\n\u001b[1;32m      8\u001b[0m             \u001b[0mnombre_energia\u001b[0m \u001b[0;34m=\u001b[0m \u001b[0mlist\u001b[0m\u001b[0;34m(\u001b[0m\u001b[0mserie_horaria\u001b[0m\u001b[0;34m)\u001b[0m\u001b[0;34m[\u001b[0m\u001b[0;34m-\u001b[0m\u001b[0;36m1\u001b[0m\u001b[0;34m]\u001b[0m\u001b[0;34m\u001b[0m\u001b[0m\n",
      "\u001b[0;31mTypeError\u001b[0m: 'type' object is not iterable"
     ]
    }
   ],
   "source": [
    "#BARRANQUILLA (2014 y 2012, Ajuste para un periodo de 3 meses)\n",
    "grafico_ajuste('Barranquilla',barranquilla_IDEAM,barranquilla_NREL,2014,2012,3)"
   ]
  },
  {
   "cell_type": "code",
   "execution_count": 144,
   "metadata": {},
   "outputs": [
    {
     "ename": "TypeError",
     "evalue": "'type' object is not iterable",
     "output_type": "error",
     "traceback": [
      "\u001b[0;31m---------------------------------------------------------------------------\u001b[0m",
      "\u001b[0;31mTypeError\u001b[0m                                 Traceback (most recent call last)",
      "\u001b[0;32m<ipython-input-144-2c9f4d481891>\u001b[0m in \u001b[0;36m<module>\u001b[0;34m()\u001b[0m\n\u001b[1;32m      1\u001b[0m \u001b[0;31m#BARRANQUILLA (2014 y 2012, Ajuste para un periodo de 6 meses)\u001b[0m\u001b[0;34m\u001b[0m\u001b[0;34m\u001b[0m\u001b[0m\n\u001b[0;32m----> 2\u001b[0;31m \u001b[0mgrafico_ajuste\u001b[0m\u001b[0;34m(\u001b[0m\u001b[0;34m'Barranquilla'\u001b[0m\u001b[0;34m,\u001b[0m\u001b[0mbarranquilla_IDEAM\u001b[0m\u001b[0;34m,\u001b[0m\u001b[0mbarranquilla_NREL\u001b[0m\u001b[0;34m,\u001b[0m\u001b[0;36m2014\u001b[0m\u001b[0;34m,\u001b[0m\u001b[0;36m2012\u001b[0m\u001b[0;34m,\u001b[0m\u001b[0;36m6\u001b[0m\u001b[0;34m)\u001b[0m\u001b[0;34m\u001b[0m\u001b[0m\n\u001b[0m",
      "\u001b[0;32m<ipython-input-135-f411a5a74c51>\u001b[0m in \u001b[0;36mgrafico_ajuste\u001b[0;34m(ciudad, serie_IDEAM, serie_NREL, ano1, ano2, mes_final)\u001b[0m\n\u001b[1;32m      1\u001b[0m \u001b[0;32mdef\u001b[0m \u001b[0mgrafico_ajuste\u001b[0m\u001b[0;34m(\u001b[0m\u001b[0mciudad\u001b[0m\u001b[0;34m,\u001b[0m\u001b[0mserie_IDEAM\u001b[0m\u001b[0;34m,\u001b[0m\u001b[0mserie_NREL\u001b[0m\u001b[0;34m,\u001b[0m\u001b[0mano1\u001b[0m\u001b[0;34m,\u001b[0m\u001b[0mano2\u001b[0m\u001b[0;34m,\u001b[0m\u001b[0mmes_final\u001b[0m\u001b[0;34m)\u001b[0m\u001b[0;34m:\u001b[0m\u001b[0;34m\u001b[0m\u001b[0m\n\u001b[1;32m      2\u001b[0m     \u001b[0mserie_IDEAM_ajustada1\u001b[0m \u001b[0;34m=\u001b[0m \u001b[0majuste_mcp2\u001b[0m\u001b[0;34m(\u001b[0m\u001b[0mserie_IDEAM\u001b[0m\u001b[0;34m,\u001b[0m\u001b[0mserie_NREL\u001b[0m\u001b[0;34m,\u001b[0m\u001b[0mano1\u001b[0m\u001b[0;34m,\u001b[0m\u001b[0mmes_final\u001b[0m\u001b[0;34m)\u001b[0m\u001b[0;34m\u001b[0m\u001b[0m\n\u001b[0;32m----> 3\u001b[0;31m     \u001b[0mserie_IDEAM_grafico1\u001b[0m \u001b[0;34m=\u001b[0m \u001b[0mghi_dia\u001b[0m\u001b[0;34m(\u001b[0m\u001b[0mghi_mensual\u001b[0m\u001b[0;34m(\u001b[0m\u001b[0mserie_IDEAM_ajustada1\u001b[0m\u001b[0;34m,\u001b[0m\u001b[0mmes_final\u001b[0m\u001b[0;34m)\u001b[0m\u001b[0;34m,\u001b[0m\u001b[0mmes_final\u001b[0m\u001b[0;34m)\u001b[0m\u001b[0;34m.\u001b[0m\u001b[0mloc\u001b[0m\u001b[0;34m[\u001b[0m\u001b[0;34m:\u001b[0m\u001b[0;34m,\u001b[0m\u001b[0;34m'GHIdiario'\u001b[0m\u001b[0;34m]\u001b[0m\u001b[0;34m\u001b[0m\u001b[0m\n\u001b[0m\u001b[1;32m      4\u001b[0m     \u001b[0mserie_NREL_grafico\u001b[0m \u001b[0;34m=\u001b[0m \u001b[0mghi_dia\u001b[0m\u001b[0;34m(\u001b[0m\u001b[0mghi_mensual\u001b[0m\u001b[0;34m(\u001b[0m\u001b[0mserie_NREL\u001b[0m\u001b[0;34m,\u001b[0m\u001b[0mmes_final\u001b[0m\u001b[0;34m)\u001b[0m\u001b[0;34m,\u001b[0m\u001b[0mmes_final\u001b[0m\u001b[0;34m)\u001b[0m\u001b[0;34m.\u001b[0m\u001b[0mloc\u001b[0m\u001b[0;34m[\u001b[0m\u001b[0;34m:\u001b[0m\u001b[0;34m,\u001b[0m\u001b[0;34m'GHIdiario'\u001b[0m\u001b[0;34m]\u001b[0m\u001b[0;34m\u001b[0m\u001b[0m\n\u001b[1;32m      5\u001b[0m \u001b[0;34m\u001b[0m\u001b[0m\n",
      "\u001b[0;32m<ipython-input-132-c8415962648a>\u001b[0m in \u001b[0;36mghi_mensual\u001b[0;34m(serie_horaria, n)\u001b[0m\n\u001b[1;32m      4\u001b[0m     \u001b[0manos\u001b[0m \u001b[0;34m=\u001b[0m \u001b[0msorted\u001b[0m\u001b[0;34m(\u001b[0m\u001b[0mserie_horaria\u001b[0m\u001b[0;34m[\u001b[0m\u001b[0;34m'AÑO'\u001b[0m\u001b[0;34m]\u001b[0m\u001b[0;34m.\u001b[0m\u001b[0munique\u001b[0m\u001b[0;34m(\u001b[0m\u001b[0;34m)\u001b[0m\u001b[0;34m)\u001b[0m\u001b[0;34m\u001b[0m\u001b[0m\n\u001b[1;32m      5\u001b[0m     \u001b[0mghi_df\u001b[0m \u001b[0;34m=\u001b[0m \u001b[0mpd\u001b[0m\u001b[0;34m.\u001b[0m\u001b[0mDataFrame\u001b[0m\u001b[0;34m(\u001b[0m\u001b[0mcolumns\u001b[0m\u001b[0;34m=\u001b[0m\u001b[0;34m[\u001b[0m\u001b[0;34m\"AÑO\"\u001b[0m\u001b[0;34m,\u001b[0m \u001b[0;34m\"MES\"\u001b[0m\u001b[0;34m,\u001b[0m \u001b[0;34m\"DIAS\"\u001b[0m\u001b[0;34m,\u001b[0m \u001b[0;34m\"GHImes\"\u001b[0m\u001b[0;34m]\u001b[0m\u001b[0;34m)\u001b[0m\u001b[0;34m\u001b[0m\u001b[0m\n\u001b[0;32m----> 6\u001b[0;31m     \u001b[0;32mfor\u001b[0m \u001b[0mano\u001b[0m \u001b[0;32min\u001b[0m \u001b[0mrange\u001b[0m\u001b[0;34m:\u001b[0m\u001b[0;34m\u001b[0m\u001b[0m\n\u001b[0m\u001b[1;32m      7\u001b[0m         \u001b[0;32mfor\u001b[0m \u001b[0mmes\u001b[0m \u001b[0;32min\u001b[0m \u001b[0mrange\u001b[0m\u001b[0;34m(\u001b[0m\u001b[0;36m1\u001b[0m\u001b[0;34m,\u001b[0m\u001b[0mn\u001b[0m\u001b[0;34m+\u001b[0m\u001b[0;36m1\u001b[0m\u001b[0;34m)\u001b[0m\u001b[0;34m:\u001b[0m\u001b[0;34m\u001b[0m\u001b[0m\n\u001b[1;32m      8\u001b[0m             \u001b[0mnombre_energia\u001b[0m \u001b[0;34m=\u001b[0m \u001b[0mlist\u001b[0m\u001b[0;34m(\u001b[0m\u001b[0mserie_horaria\u001b[0m\u001b[0;34m)\u001b[0m\u001b[0;34m[\u001b[0m\u001b[0;34m-\u001b[0m\u001b[0;36m1\u001b[0m\u001b[0;34m]\u001b[0m\u001b[0;34m\u001b[0m\u001b[0m\n",
      "\u001b[0;31mTypeError\u001b[0m: 'type' object is not iterable"
     ]
    }
   ],
   "source": [
    "#BARRANQUILLA (2014 y 2012, Ajuste para un periodo de 6 meses)\n",
    "grafico_ajuste('Barranquilla',barranquilla_IDEAM,barranquilla_NREL,2014,2012,6)"
   ]
  },
  {
   "cell_type": "code",
   "execution_count": 145,
   "metadata": {},
   "outputs": [
    {
     "ename": "TypeError",
     "evalue": "'type' object is not iterable",
     "output_type": "error",
     "traceback": [
      "\u001b[0;31m---------------------------------------------------------------------------\u001b[0m",
      "\u001b[0;31mTypeError\u001b[0m                                 Traceback (most recent call last)",
      "\u001b[0;32m<ipython-input-145-ba325e6feaff>\u001b[0m in \u001b[0;36m<module>\u001b[0;34m()\u001b[0m\n\u001b[1;32m      1\u001b[0m \u001b[0;31m#BARRANQUILLA (2014 y 2012, Ajuste para un periodo de 9 meses)\u001b[0m\u001b[0;34m\u001b[0m\u001b[0;34m\u001b[0m\u001b[0m\n\u001b[0;32m----> 2\u001b[0;31m \u001b[0mgrafico_ajuste\u001b[0m\u001b[0;34m(\u001b[0m\u001b[0;34m'Barranquilla'\u001b[0m\u001b[0;34m,\u001b[0m\u001b[0mbarranquilla_IDEAM\u001b[0m\u001b[0;34m,\u001b[0m\u001b[0mbarranquilla_NREL\u001b[0m\u001b[0;34m,\u001b[0m\u001b[0;36m2014\u001b[0m\u001b[0;34m,\u001b[0m\u001b[0;36m2012\u001b[0m\u001b[0;34m,\u001b[0m\u001b[0;36m9\u001b[0m\u001b[0;34m)\u001b[0m\u001b[0;34m\u001b[0m\u001b[0m\n\u001b[0m",
      "\u001b[0;32m<ipython-input-135-f411a5a74c51>\u001b[0m in \u001b[0;36mgrafico_ajuste\u001b[0;34m(ciudad, serie_IDEAM, serie_NREL, ano1, ano2, mes_final)\u001b[0m\n\u001b[1;32m      1\u001b[0m \u001b[0;32mdef\u001b[0m \u001b[0mgrafico_ajuste\u001b[0m\u001b[0;34m(\u001b[0m\u001b[0mciudad\u001b[0m\u001b[0;34m,\u001b[0m\u001b[0mserie_IDEAM\u001b[0m\u001b[0;34m,\u001b[0m\u001b[0mserie_NREL\u001b[0m\u001b[0;34m,\u001b[0m\u001b[0mano1\u001b[0m\u001b[0;34m,\u001b[0m\u001b[0mano2\u001b[0m\u001b[0;34m,\u001b[0m\u001b[0mmes_final\u001b[0m\u001b[0;34m)\u001b[0m\u001b[0;34m:\u001b[0m\u001b[0;34m\u001b[0m\u001b[0m\n\u001b[1;32m      2\u001b[0m     \u001b[0mserie_IDEAM_ajustada1\u001b[0m \u001b[0;34m=\u001b[0m \u001b[0majuste_mcp2\u001b[0m\u001b[0;34m(\u001b[0m\u001b[0mserie_IDEAM\u001b[0m\u001b[0;34m,\u001b[0m\u001b[0mserie_NREL\u001b[0m\u001b[0;34m,\u001b[0m\u001b[0mano1\u001b[0m\u001b[0;34m,\u001b[0m\u001b[0mmes_final\u001b[0m\u001b[0;34m)\u001b[0m\u001b[0;34m\u001b[0m\u001b[0m\n\u001b[0;32m----> 3\u001b[0;31m     \u001b[0mserie_IDEAM_grafico1\u001b[0m \u001b[0;34m=\u001b[0m \u001b[0mghi_dia\u001b[0m\u001b[0;34m(\u001b[0m\u001b[0mghi_mensual\u001b[0m\u001b[0;34m(\u001b[0m\u001b[0mserie_IDEAM_ajustada1\u001b[0m\u001b[0;34m,\u001b[0m\u001b[0mmes_final\u001b[0m\u001b[0;34m)\u001b[0m\u001b[0;34m,\u001b[0m\u001b[0mmes_final\u001b[0m\u001b[0;34m)\u001b[0m\u001b[0;34m.\u001b[0m\u001b[0mloc\u001b[0m\u001b[0;34m[\u001b[0m\u001b[0;34m:\u001b[0m\u001b[0;34m,\u001b[0m\u001b[0;34m'GHIdiario'\u001b[0m\u001b[0;34m]\u001b[0m\u001b[0;34m\u001b[0m\u001b[0m\n\u001b[0m\u001b[1;32m      4\u001b[0m     \u001b[0mserie_NREL_grafico\u001b[0m \u001b[0;34m=\u001b[0m \u001b[0mghi_dia\u001b[0m\u001b[0;34m(\u001b[0m\u001b[0mghi_mensual\u001b[0m\u001b[0;34m(\u001b[0m\u001b[0mserie_NREL\u001b[0m\u001b[0;34m,\u001b[0m\u001b[0mmes_final\u001b[0m\u001b[0;34m)\u001b[0m\u001b[0;34m,\u001b[0m\u001b[0mmes_final\u001b[0m\u001b[0;34m)\u001b[0m\u001b[0;34m.\u001b[0m\u001b[0mloc\u001b[0m\u001b[0;34m[\u001b[0m\u001b[0;34m:\u001b[0m\u001b[0;34m,\u001b[0m\u001b[0;34m'GHIdiario'\u001b[0m\u001b[0;34m]\u001b[0m\u001b[0;34m\u001b[0m\u001b[0m\n\u001b[1;32m      5\u001b[0m \u001b[0;34m\u001b[0m\u001b[0m\n",
      "\u001b[0;32m<ipython-input-132-c8415962648a>\u001b[0m in \u001b[0;36mghi_mensual\u001b[0;34m(serie_horaria, n)\u001b[0m\n\u001b[1;32m      4\u001b[0m     \u001b[0manos\u001b[0m \u001b[0;34m=\u001b[0m \u001b[0msorted\u001b[0m\u001b[0;34m(\u001b[0m\u001b[0mserie_horaria\u001b[0m\u001b[0;34m[\u001b[0m\u001b[0;34m'AÑO'\u001b[0m\u001b[0;34m]\u001b[0m\u001b[0;34m.\u001b[0m\u001b[0munique\u001b[0m\u001b[0;34m(\u001b[0m\u001b[0;34m)\u001b[0m\u001b[0;34m)\u001b[0m\u001b[0;34m\u001b[0m\u001b[0m\n\u001b[1;32m      5\u001b[0m     \u001b[0mghi_df\u001b[0m \u001b[0;34m=\u001b[0m \u001b[0mpd\u001b[0m\u001b[0;34m.\u001b[0m\u001b[0mDataFrame\u001b[0m\u001b[0;34m(\u001b[0m\u001b[0mcolumns\u001b[0m\u001b[0;34m=\u001b[0m\u001b[0;34m[\u001b[0m\u001b[0;34m\"AÑO\"\u001b[0m\u001b[0;34m,\u001b[0m \u001b[0;34m\"MES\"\u001b[0m\u001b[0;34m,\u001b[0m \u001b[0;34m\"DIAS\"\u001b[0m\u001b[0;34m,\u001b[0m \u001b[0;34m\"GHImes\"\u001b[0m\u001b[0;34m]\u001b[0m\u001b[0;34m)\u001b[0m\u001b[0;34m\u001b[0m\u001b[0m\n\u001b[0;32m----> 6\u001b[0;31m     \u001b[0;32mfor\u001b[0m \u001b[0mano\u001b[0m \u001b[0;32min\u001b[0m \u001b[0mrange\u001b[0m\u001b[0;34m:\u001b[0m\u001b[0;34m\u001b[0m\u001b[0m\n\u001b[0m\u001b[1;32m      7\u001b[0m         \u001b[0;32mfor\u001b[0m \u001b[0mmes\u001b[0m \u001b[0;32min\u001b[0m \u001b[0mrange\u001b[0m\u001b[0;34m(\u001b[0m\u001b[0;36m1\u001b[0m\u001b[0;34m,\u001b[0m\u001b[0mn\u001b[0m\u001b[0;34m+\u001b[0m\u001b[0;36m1\u001b[0m\u001b[0;34m)\u001b[0m\u001b[0;34m:\u001b[0m\u001b[0;34m\u001b[0m\u001b[0m\n\u001b[1;32m      8\u001b[0m             \u001b[0mnombre_energia\u001b[0m \u001b[0;34m=\u001b[0m \u001b[0mlist\u001b[0m\u001b[0;34m(\u001b[0m\u001b[0mserie_horaria\u001b[0m\u001b[0;34m)\u001b[0m\u001b[0;34m[\u001b[0m\u001b[0;34m-\u001b[0m\u001b[0;36m1\u001b[0m\u001b[0;34m]\u001b[0m\u001b[0;34m\u001b[0m\u001b[0m\n",
      "\u001b[0;31mTypeError\u001b[0m: 'type' object is not iterable"
     ]
    }
   ],
   "source": [
    "#BARRANQUILLA (2014 y 2012, Ajuste para un periodo de 9 meses)\n",
    "grafico_ajuste('Barranquilla',barranquilla_IDEAM,barranquilla_NREL,2014,2012,9)"
   ]
  },
  {
   "cell_type": "markdown",
   "metadata": {},
   "source": [
    "### Ahora se mostrará el error para la serie de 9 meses para los dos diferentes años en las dos ciudades"
   ]
  },
  {
   "cell_type": "code",
   "execution_count": 146,
   "metadata": {},
   "outputs": [
    {
     "name": "stdout",
     "output_type": "stream",
     "text": [
      "El error para la serie de Valledupar (2014) es:\n",
      "\n",
      "El error de sesgo medio es:  0.16226747168685984\n",
      "El error RMSE es:  0.0864996202886\n",
      "El índice KSI es: Ks_2sampResult(statistic=0.5098643266118994, pvalue=0.0)\n",
      "\n",
      "El error para la serie de Barranquilla (2014) es:\n",
      "\n",
      "El error de sesgo medio es:  0.14617383415300297\n",
      "El error RMSE es:  0.0575628260409\n",
      "El índice KSI es: Ks_2sampResult(statistic=0.067909302132603155, pvalue=1.0017018066037215e-193)\n",
      "El error para la serie de Valledupar (2012) es:\n",
      "\n",
      "El error de sesgo medio es:  0.1686228260934616\n",
      "El error RMSE es:  0.0967131923656\n",
      "El índice KSI es: Ks_2sampResult(statistic=0.51358808397643352, pvalue=0.0)\n",
      "\n",
      "El error para la serie de Barranquilla (2012) es:\n",
      "\n",
      "El error de sesgo medio es:  0.026410947852615236\n",
      "El error RMSE es:  0.00939741186173\n",
      "El índice KSI es: Ks_2sampResult(statistic=0.012758277321384126, pvalue=3.0081681984769476e-07)\n"
     ]
    }
   ],
   "source": [
    "#Valledupar 2014\n",
    "valledupar_IDEAM_ajustada = ajuste_mcp2(valledupar_IDEAM,valledupar_NREL,2014,9)\n",
    "barranquilla_IDEAM_ajustada=ajuste_mcp2(barranquilla_IDEAM,barranquilla_NREL,2014,9)\n",
    "valledupar_IDEAM_ajustada2 = ajuste_mcp2(valledupar_IDEAM,valledupar_NREL,2012,9)\n",
    "barranquilla_IDEAM_ajustada2 =ajuste_mcp2(barranquilla_IDEAM,barranquilla_NREL,2012,9)\n",
    "print (\"El error para la serie de Valledupar (2014) es:\")\n",
    "print (\"\")\n",
    "errores(valledupar_IDEAM_ajustada,valledupar_NREL)\n",
    "print (\"\")\n",
    "print (\"El error para la serie de Barranquilla (2014) es:\")\n",
    "print (\"\")\n",
    "errores(barranquilla_IDEAM_ajustada,barranquilla_NREL)\n",
    "\n",
    "print (\"El error para la serie de Valledupar (2012) es:\")\n",
    "print (\"\")\n",
    "errores(valledupar_IDEAM_ajustada2,valledupar_NREL)\n",
    "print (\"\")\n",
    "print (\"El error para la serie de Barranquilla (2012) es:\")\n",
    "print (\"\")\n",
    "errores(barranquilla_IDEAM_ajustada2,barranquilla_NREL)"
   ]
  },
  {
   "cell_type": "markdown",
   "metadata": {},
   "source": [
    "## Análisis\n",
    "\n",
    "* De las gráficas mostradas anteriormente se puede comentar que por medio del método del ajuste mcp, los datos medidos in situ se ajustan de una forma esperada a los datos proporcionados por el satélite\n",
    "* Por otro lado, se puede apreciar que a medida que se aumenta el número de meses en el periodo de ajuste de los datos medidos in situ, los datos medidos se ajustan de una mejor manera a los datos proporcionados por el satélite. Por consiguiente, se recomienda que para realizar un ajuste preciso es recomendable tener la medición in situ de varios años.\n",
    "* Por último, por medio de los errores se puede decir que los datos ajustados por el ajuste mcp tienen una predicción confiable ya que los p-value son muy cercanos a 0."
   ]
  }
 ],
 "metadata": {
  "kernelspec": {
   "display_name": "Python 3",
   "language": "python",
   "name": "python3"
  },
  "language_info": {
   "codemirror_mode": {
    "name": "ipython",
    "version": 3
   },
   "file_extension": ".py",
   "mimetype": "text/x-python",
   "name": "python",
   "nbconvert_exporter": "python",
   "pygments_lexer": "ipython3",
   "version": "3.6.3"
  }
 },
 "nbformat": 4,
 "nbformat_minor": 2
}
