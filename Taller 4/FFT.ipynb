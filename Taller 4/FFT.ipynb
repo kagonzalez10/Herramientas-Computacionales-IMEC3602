{
 "cells": [
  {
   "cell_type": "code",
   "execution_count": 89,
   "metadata": {},
   "outputs": [
    {
     "name": "stdout",
     "output_type": "stream",
     "text": [
      "Populating the interactive namespace from numpy and matplotlib\n"
     ]
    },
    {
     "name": "stderr",
     "output_type": "stream",
     "text": [
      "/anaconda3/lib/python3.6/site-packages/IPython/core/magics/pylab.py:160: UserWarning: pylab import has clobbered these variables: ['ifft', 'fft']\n",
      "`%matplotlib` prevents importing * from pylab and numpy\n",
      "  \"\\n`%matplotlib` prevents importing * from pylab and numpy\"\n"
     ]
    }
   ],
   "source": [
    "%pylab inline\n",
    "import os\n",
    "import pandas as pd\n",
    "from scipy import ndimage\n",
    "from scipy.fftpack import fft,ifft\n",
    "import mpmath"
   ]
  },
  {
   "cell_type": "code",
   "execution_count": 23,
   "metadata": {},
   "outputs": [],
   "source": [
    "def ejemplo1():\n",
    "    L=20\n",
    "    n=128\n",
    "    x2=linspace(-L/2,L/2,n+1)\n",
    "    x=x2[1:n+1]\n",
    "    u=exp(-x**2)\n",
    "    ut=fft(u)\n",
    "    utshift = fftshift(ut)\n",
    "    plot(x,u)\n",
    "    plot(real(ut))\n",
    "    plot(real(utshift))\n",
    "    plot(abs(utshift))\n",
    "    return"
   ]
  },
  {
   "cell_type": "code",
   "execution_count": 181,
   "metadata": {},
   "outputs": [],
   "source": [
    "L=20\n",
    "n=128\n",
    "x2=linspace(-L/2,L/2,n+1)\n",
    "x=x2[1:n+1]\n",
    "dx = x[1]-x[0]\n",
    "u=1/(cosh(x))\n",
    "ut = fft(u)\n",
    "k1 = np.arange(0,n/2)\n",
    "k2 = np.arange(-n/2,0)\n",
    "k = (2*pi/L)*np.concatenate((k1,k2), axis=0)\n",
    "ut1 = np.multiply(k,ut)*1j\n",
    "ut2 = -k*k*ut\n",
    "u1exact =-(1/cosh(x))*tanh(x)\n",
    "u2exact =(1/cosh(x))-2*(1/cosh(x))**3\n",
    "\n",
    "ux = [0]*(n)\n",
    "ux[0]=(-3*u[0]+4*u[1]-u[2])/(2*dx)\n",
    "\n",
    "for j in range (1,n-2):\n",
    "    ux[j]=(u[j+1]-u[j-1])/(2*dx)\n",
    "ux[n-1]=(3*u[n-1]-4*u[n-2]+u[n-3])/(2*dx)\n",
    "\n",
    "ux2 = [0]*(n-1)\n",
    "ux2[0]=(-3*u[0]+4*u[1]-u[2])/(2*dx)\n",
    "ux2[1]=(-3*u[1]+4*u[2]-u[3])/(2*dx)\n",
    "for j in range (3,n-3):\n",
    "    ux2[j]=(-u[j+2]+8*u[j+1]-8*u[j-1]+u[j-2])/(12*dx)\n",
    "ux2[n-2]=(3*u[n-2]-4*u[n-3]+u[n-4])/(2*dx)\n"
   ]
  },
  {
   "cell_type": "code",
   "execution_count": null,
   "metadata": {
    "collapsed": true
   },
   "outputs": [],
   "source": []
  }
 ],
 "metadata": {
  "kernelspec": {
   "display_name": "Python 3",
   "language": "python",
   "name": "python3"
  },
  "language_info": {
   "codemirror_mode": {
    "name": "ipython",
    "version": 3
   },
   "file_extension": ".py",
   "mimetype": "text/x-python",
   "name": "python",
   "nbconvert_exporter": "python",
   "pygments_lexer": "ipython3",
   "version": "3.6.3"
  }
 },
 "nbformat": 4,
 "nbformat_minor": 2
}
