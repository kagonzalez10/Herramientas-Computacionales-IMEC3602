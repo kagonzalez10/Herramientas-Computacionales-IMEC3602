{
 "cells": [
  {
   "cell_type": "markdown",
   "metadata": {},
   "source": [
    "# Proyecto Final\n",
    "\n",
    "### Cálculo y predicción de radiación solar en la tierra\n",
    "\n",
    "### Herramientas computacionales (IMEC 3602)\n",
    "\n",
    "Kevin González (201326605)"
   ]
  },
  {
   "cell_type": "code",
   "execution_count": 28,
   "metadata": {},
   "outputs": [
    {
     "name": "stdout",
     "output_type": "stream",
     "text": [
      "Populating the interactive namespace from numpy and matplotlib\n"
     ]
    }
   ],
   "source": [
    "import datetime\n",
    "import time\n",
    "import os\n",
    "import pandas as pd\n",
    "%pylab inline\n",
    "import numpy as np\n",
    "\n",
    "def calculoPosicionSolar(latitud,longitud,GMT):\n",
    "    solarAltitud = []\n",
    "    solarAzimuth = []\n",
    "    dia =0\n",
    "    ##Se calculará para el día 22 de Mayo 2018 10:00 a.m.\n",
    "    ### Tiempo que han pasado desde la noche del 1 Enero del 2000\n",
    "    while dia<365:\n",
    "        D = 5*366+(18-5)*365+(2)*31+28+30+21-0.5+((10-GMT)/24)+dia\n",
    "    \n",
    "    ### MEAN LONGITUDE of the sun\n",
    "        q = 280.459+0.98564736*D\n",
    "    ### MEAN ANOMALY of the sun\n",
    "        g = 357.529 + 0.98560028*D\n",
    "    \n",
    "   \n",
    "        while q >360:\n",
    "            q = q-360\n",
    "        while g >360:\n",
    "            g = g-360\n",
    "\n",
    "    ### LATITUD sol (Coordenadas elípticas)\n",
    "        alpha_s = q + 1.915*np.sin(g) + 0.020*np.sin(2*g)\n",
    "    \n",
    "    ### AXIAL TILT\n",
    "        epsilon = 23.429 - 0.00000036*D\n",
    "    \n",
    "    ### The Greewich Mean Sidereal Time (GMST)\n",
    "        T = D/36525\n",
    "        GMST = 18.697374558+ 24.06570982441908*(D) + 0.000026*(T**2)\n",
    "        while GMST>24:\n",
    "            GMST = GMST-24\n",
    "            \n",
    "    ### LOCAL MEAN SIDERIAL TIME\n",
    "        tetha_L = GMST*15+longitud\n",
    "        \n",
    "        latitud_rad = np.deg2rad(latitud)\n",
    "        longitud_rad = np.deg2rad(longitud)\n",
    "        tetha_Lrad = np.deg2rad(tetha_L)\n",
    "        alpha_srad = np.deg2rad(alpha_s)\n",
    "        epsilon_rad = np.deg2rad(epsilon)\n",
    "        \n",
    "        num_tanA_s =(-np.sin(tetha_Lrad)*np.cos(alpha_srad)+np.cos(tetha_Lrad)*np.cos(epsilon_rad)*np.sin(alpha_srad))\n",
    "        den_tanA_s =(-np.sin(latitud_rad)*np.cos(tetha_Lrad)*np.cos(alpha_srad)-(np.sin(latitud_rad)*np.sin(tetha_Lrad)*np.cos(epsilon_rad)-np.cos(latitud_rad)*np.sin(epsilon_rad))*np.sin(alpha_srad))\n",
    "        sina_s = np.cos(latitud_rad)*np.cos(tetha_Lrad)*np.cos(alpha_srad)+(np.cos(latitud_rad)*np.sin(tetha_Lrad)*np.cos(epsilon_rad)+np.sin(latitud_rad)*np.sin(epsilon_rad))*np.sin(alpha_srad)\n",
    "        tanA_s=num_tanA_s/den_tanA_s\n",
    "        if num_tanA_s>0 and den_tanA_s>0:\n",
    "            A_s = np.rad2deg(np.arctan(tanA_s))\n",
    "        if num_tanA_s<0:\n",
    "            A_s=np.rad2deg(np.arctan(tanA_s))+180\n",
    "        if num_tanA_s>0 and den_tanA_s<0:\n",
    "            A_s=np.rad2deg(np.arctan(tanA_s))+360\n",
    "    ### SOLAR AZIMUTH\n",
    "        solarAzimuth.append(A_s)\n",
    "    ### SOLAR ALTITUDE\n",
    "        a_s = np.rad2deg(np.arcsin(sina_s))\n",
    "        solarAltitud.append(a_s)\n",
    "        dia = dia+1\n",
    "    return solarAzimuth,solarAltitud\n",
    "\n",
    "def calculoPosicionSolarResolucionHora(latitud,longitud,GMT):\n",
    "    solarAltitud = []\n",
    "    solarAzimuth = []\n",
    "    hora =0\n",
    "    ##Se calculará para el día de hoy 22 de Mayo 2018 10:00 a.m.\n",
    "    ### Tiempo que han pasado desde la noche del 1 Enero del 2000\n",
    "    while hora<365*24:\n",
    "        D = 5*366+(18-5)*365+(2)*31+28+30+21-0.5+((10-GMT)/24)+(hora/24)\n",
    "    \n",
    "    ### MEAN LONGITUDE of the sun\n",
    "        q = 280.459+0.98564736*D\n",
    "    ### MEAN ANOMALY of the sun\n",
    "        g = 357.529 + 0.98560028*D\n",
    "    \n",
    "   \n",
    "        while q >360:\n",
    "            q = q-360\n",
    "        while g >360:\n",
    "            g = g-360\n",
    "\n",
    "    ### LATITUD sol (Coordenadas elípticas)\n",
    "        alpha_s = q + 1.915*np.sin(g) + 0.020*np.sin(2*g)\n",
    "    \n",
    "    ### AXIAL TILT\n",
    "        epsilon = 23.429 - 0.00000036*D\n",
    "    \n",
    "    ### The Greewich Mean Sidereal Time (GMST)\n",
    "        T = D/36525\n",
    "        GMST = 18.697374558+ 24.06570982441908*(D) + 0.000026*(T**2)\n",
    "        while GMST>24:\n",
    "            GMST = GMST-24\n",
    "            \n",
    "    ### LOCAL MEAN SIDERIAL TIME\n",
    "        tetha_L = GMST*15+longitud\n",
    "        \n",
    "        latitud_rad = np.deg2rad(latitud)\n",
    "        longitud_rad = np.deg2rad(longitud)\n",
    "        tetha_Lrad = np.deg2rad(tetha_L)\n",
    "        alpha_srad = np.deg2rad(alpha_s)\n",
    "        epsilon_rad = np.deg2rad(epsilon)\n",
    "        \n",
    "        num_tanA_s =(-np.sin(tetha_Lrad)*np.cos(alpha_srad)+np.cos(tetha_Lrad)*np.cos(epsilon_rad)*np.sin(alpha_srad))\n",
    "        den_tanA_s =(-np.sin(latitud_rad)*np.cos(tetha_Lrad)*np.cos(alpha_srad)-(np.sin(latitud_rad)*np.sin(tetha_Lrad)*np.cos(epsilon_rad)-np.cos(latitud_rad)*np.sin(epsilon_rad))*np.sin(alpha_srad))\n",
    "        sina_s = np.cos(latitud_rad)*np.cos(tetha_Lrad)*np.cos(alpha_srad)+(np.cos(latitud_rad)*np.sin(tetha_Lrad)*np.cos(epsilon_rad)+np.sin(latitud_rad)*np.sin(epsilon_rad))*np.sin(alpha_srad)\n",
    "        tanA_s=num_tanA_s/den_tanA_s\n",
    "        if num_tanA_s>0 and den_tanA_s>0:\n",
    "            A_s = np.rad2deg(np.arctan(tanA_s))\n",
    "        if num_tanA_s<0:\n",
    "            A_s=np.rad2deg(np.arctan(tanA_s))+180\n",
    "        if num_tanA_s>0 and den_tanA_s<0:\n",
    "            A_s=np.rad2deg(np.arctan(tanA_s))+360\n",
    "    ### SOLAR AZIMUTH\n",
    "        solarAzimuth.append(A_s)\n",
    "    ### SOLAR ALTITUDE\n",
    "        a_s = np.rad2deg(np.arcsin(sina_s))\n",
    "        solarAltitud.append(a_s)\n",
    "        hora= hora+1\n",
    "    return solarAzimuth,solarAltitud"
   ]
  },
  {
   "cell_type": "code",
   "execution_count": 29,
   "metadata": {},
   "outputs": [],
   "source": [
    "latitudBogota = -(4+(36/60)+(34/(60*60)))\n",
    "longitudBogota= 74+(4/60)+(54/(60*60))\n",
    "latitudMoscu = 55+(45/60)+(7/(60*60))\n",
    "longitudMoscu = 37+(36/60)+(56/(60*60))\n",
    "latitudJohannes = -26.2022705\n",
    "longitudJohannes = 28.0436306\n",
    "\n",
    "GMTBogota = -5\n",
    "GMTMoscu = 3\n",
    "GMTJohannes = 2\n",
    "### Análisis para resolución horaria\n",
    "resultadosBogotaHorario = calculoPosicionSolarResolucionHora(latitudBogota,longitudBogota,GMTBogota)\n",
    "resultadosMoscuHorario = calculoPosicionSolarResolucionHora(latitudMoscu,longitudMoscu,GMTMoscu)\n",
    "resultadosJohannesHorario = calculoPosicionSolarResolucionHora(latitudJohannes,longitudJohannes,GMTJohannes)\n",
    "\n",
    "###SOLAR AZIMUTH and ALTITUD BOGOTÁ\n",
    "solarAzimuthBogotaHorario = resultadosBogotaHorario[0]\n",
    "solarAltitudBogotaHorario = resultadosBogotaHorario[1]\n",
    "\n",
    "###SOLAR AZIMUTH and ALTITUD MOSCÚ\n",
    "solarAzimuthMoscuHorario = resultadosMoscuHorario[0]\n",
    "solarAltitudMoscuHorario = resultadosMoscuHorario[1]\n",
    "###SOLAR AZIMUTH and ALTITUD JOHANNESBURGO\n",
    "solarAzimuthJohannesHorario = resultadosJohannesHorario[0]\n",
    "solarAltitudJohannesHorario = resultadosJohannesHorario[1]\n",
    "\n",
    "### ANÁLISIS RESOLUCIÓN DÍA\n",
    "resultadosBogota = calculoPosicionSolar(latitudBogota,longitudBogota,GMTBogota)\n",
    "resultadosMoscu = calculoPosicionSolar(latitudMoscu,longitudMoscu,GMTMoscu)\n",
    "resultadosJohannes = calculoPosicionSolar(latitudJohannes,longitudJohannes,GMTJohannes)\n",
    "\n",
    "###SOLAR AZIMUTH and ALTITUD BOGOTÁ\n",
    "solarAzimuthBogota = resultadosBogota[0]\n",
    "solarAltitudBogota = resultadosBogota[1]\n",
    "\n",
    "###SOLAR AZIMUTH and ALTITUD MOSCÚ\n",
    "solarAzimuthMoscu = resultadosMoscu[0]\n",
    "solarAltitudMoscu = resultadosMoscu[1]\n",
    "###SOLAR AZIMUTH and ALTITUD JOHANNESBURGO\n",
    "solarAzimuthJohannes = resultadosJohannes[0]\n",
    "solarAltitudJohannes = resultadosJohannes[1]\n",
    "\n",
    "\n",
    "### Direct Irradiance (kW/m^2) at a certain solar altitude (as) and altitude of the observer (h)\n",
    "def directIrradiance(sunAltitud,h):\n",
    "    Ie0 = 1361\n",
    "    c=0.14\n",
    "    sunAltitud_rad = np.deg2rad(sunAltitud)\n",
    "    if(sunAltitud<0):\n",
    "        I_edir=0\n",
    "    else:\n",
    "        AM = 1/(np.sin(sunAltitud_rad)+0.50572*((6.07995+sunAltitud))**(-1.6364))\n",
    "        I_edir= Ie0*((1-c*h)*(0.7)**(AM**0.678)+c*h)\n",
    "    return I_edir/1000"
   ]
  },
  {
   "cell_type": "code",
   "execution_count": 30,
   "metadata": {
    "collapsed": true
   },
   "outputs": [],
   "source": [
    "def irradianceProm(irradiance):\n",
    "    n = 365\n",
    "    suma = [0]*n\n",
    "    prom = [0]*n\n",
    "    j=0\n",
    "    contador = 0\n",
    "    for i in range(0,15):\n",
    "        suma[0] = suma[0] + irradiance[i]\n",
    "    while j<size(irradiance)-24:\n",
    "        contador = contador + 1\n",
    "        for i in range(15+j,39+j):\n",
    "            suma[contador] = suma[contador] + irradiance[i]\n",
    "        j+=24\n",
    "    for i in range(0,365):\n",
    "        prom[i] = suma[i]/24\n",
    "    return prom"
   ]
  },
  {
   "cell_type": "code",
   "execution_count": 31,
   "metadata": {},
   "outputs": [
    {
     "ename": "ValueError",
     "evalue": "x and y must have same first dimension, but have shapes (365,) and (8760,)",
     "output_type": "error",
     "traceback": [
      "\u001b[0;31m---------------------------------------------------------------------------\u001b[0m",
      "\u001b[0;31mValueError\u001b[0m                                Traceback (most recent call last)",
      "\u001b[0;32m<ipython-input-31-e57670beacbf>\u001b[0m in \u001b[0;36m<module>\u001b[0;34m()\u001b[0m\n\u001b[1;32m     11\u001b[0m \u001b[0;34m\u001b[0m\u001b[0m\n\u001b[1;32m     12\u001b[0m \u001b[0;34m\u001b[0m\u001b[0m\n\u001b[0;32m---> 13\u001b[0;31m \u001b[0mplt\u001b[0m\u001b[0;34m.\u001b[0m\u001b[0mplot\u001b[0m\u001b[0;34m(\u001b[0m\u001b[0mdias\u001b[0m\u001b[0;34m,\u001b[0m\u001b[0mI_edirBog\u001b[0m\u001b[0;34m,\u001b[0m\u001b[0mlabel\u001b[0m\u001b[0;34m=\u001b[0m\u001b[0;34m'Bogotá'\u001b[0m\u001b[0;34m)\u001b[0m\u001b[0;34m\u001b[0m\u001b[0m\n\u001b[0m\u001b[1;32m     14\u001b[0m \u001b[0mplt\u001b[0m\u001b[0;34m.\u001b[0m\u001b[0mxlabel\u001b[0m\u001b[0;34m(\u001b[0m\u001b[0;34m'Hora'\u001b[0m\u001b[0;34m)\u001b[0m\u001b[0;34m\u001b[0m\u001b[0m\n\u001b[1;32m     15\u001b[0m \u001b[0mplt\u001b[0m\u001b[0;34m.\u001b[0m\u001b[0mylabel\u001b[0m\u001b[0;34m(\u001b[0m\u001b[0;34m'Irradiación solar (kW/$m^2$)'\u001b[0m\u001b[0;34m)\u001b[0m\u001b[0;34m\u001b[0m\u001b[0m\n",
      "\u001b[0;32m/anaconda3/lib/python3.6/site-packages/matplotlib/pyplot.py\u001b[0m in \u001b[0;36mplot\u001b[0;34m(*args, **kwargs)\u001b[0m\n\u001b[1;32m   3238\u001b[0m                       mplDeprecation)\n\u001b[1;32m   3239\u001b[0m     \u001b[0;32mtry\u001b[0m\u001b[0;34m:\u001b[0m\u001b[0;34m\u001b[0m\u001b[0m\n\u001b[0;32m-> 3240\u001b[0;31m         \u001b[0mret\u001b[0m \u001b[0;34m=\u001b[0m \u001b[0max\u001b[0m\u001b[0;34m.\u001b[0m\u001b[0mplot\u001b[0m\u001b[0;34m(\u001b[0m\u001b[0;34m*\u001b[0m\u001b[0margs\u001b[0m\u001b[0;34m,\u001b[0m \u001b[0;34m**\u001b[0m\u001b[0mkwargs\u001b[0m\u001b[0;34m)\u001b[0m\u001b[0;34m\u001b[0m\u001b[0m\n\u001b[0m\u001b[1;32m   3241\u001b[0m     \u001b[0;32mfinally\u001b[0m\u001b[0;34m:\u001b[0m\u001b[0;34m\u001b[0m\u001b[0m\n\u001b[1;32m   3242\u001b[0m         \u001b[0max\u001b[0m\u001b[0;34m.\u001b[0m\u001b[0m_hold\u001b[0m \u001b[0;34m=\u001b[0m \u001b[0mwashold\u001b[0m\u001b[0;34m\u001b[0m\u001b[0m\n",
      "\u001b[0;32m/anaconda3/lib/python3.6/site-packages/matplotlib/__init__.py\u001b[0m in \u001b[0;36minner\u001b[0;34m(ax, *args, **kwargs)\u001b[0m\n\u001b[1;32m   1708\u001b[0m                     warnings.warn(msg % (label_namer, func.__name__),\n\u001b[1;32m   1709\u001b[0m                                   RuntimeWarning, stacklevel=2)\n\u001b[0;32m-> 1710\u001b[0;31m             \u001b[0;32mreturn\u001b[0m \u001b[0mfunc\u001b[0m\u001b[0;34m(\u001b[0m\u001b[0max\u001b[0m\u001b[0;34m,\u001b[0m \u001b[0;34m*\u001b[0m\u001b[0margs\u001b[0m\u001b[0;34m,\u001b[0m \u001b[0;34m**\u001b[0m\u001b[0mkwargs\u001b[0m\u001b[0;34m)\u001b[0m\u001b[0;34m\u001b[0m\u001b[0m\n\u001b[0m\u001b[1;32m   1711\u001b[0m         \u001b[0mpre_doc\u001b[0m \u001b[0;34m=\u001b[0m \u001b[0minner\u001b[0m\u001b[0;34m.\u001b[0m\u001b[0m__doc__\u001b[0m\u001b[0;34m\u001b[0m\u001b[0m\n\u001b[1;32m   1712\u001b[0m         \u001b[0;32mif\u001b[0m \u001b[0mpre_doc\u001b[0m \u001b[0;32mis\u001b[0m \u001b[0;32mNone\u001b[0m\u001b[0;34m:\u001b[0m\u001b[0;34m\u001b[0m\u001b[0m\n",
      "\u001b[0;32m/anaconda3/lib/python3.6/site-packages/matplotlib/axes/_axes.py\u001b[0m in \u001b[0;36mplot\u001b[0;34m(self, *args, **kwargs)\u001b[0m\n\u001b[1;32m   1435\u001b[0m         \u001b[0mkwargs\u001b[0m \u001b[0;34m=\u001b[0m \u001b[0mcbook\u001b[0m\u001b[0;34m.\u001b[0m\u001b[0mnormalize_kwargs\u001b[0m\u001b[0;34m(\u001b[0m\u001b[0mkwargs\u001b[0m\u001b[0;34m,\u001b[0m \u001b[0m_alias_map\u001b[0m\u001b[0;34m)\u001b[0m\u001b[0;34m\u001b[0m\u001b[0m\n\u001b[1;32m   1436\u001b[0m \u001b[0;34m\u001b[0m\u001b[0m\n\u001b[0;32m-> 1437\u001b[0;31m         \u001b[0;32mfor\u001b[0m \u001b[0mline\u001b[0m \u001b[0;32min\u001b[0m \u001b[0mself\u001b[0m\u001b[0;34m.\u001b[0m\u001b[0m_get_lines\u001b[0m\u001b[0;34m(\u001b[0m\u001b[0;34m*\u001b[0m\u001b[0margs\u001b[0m\u001b[0;34m,\u001b[0m \u001b[0;34m**\u001b[0m\u001b[0mkwargs\u001b[0m\u001b[0;34m)\u001b[0m\u001b[0;34m:\u001b[0m\u001b[0;34m\u001b[0m\u001b[0m\n\u001b[0m\u001b[1;32m   1438\u001b[0m             \u001b[0mself\u001b[0m\u001b[0;34m.\u001b[0m\u001b[0madd_line\u001b[0m\u001b[0;34m(\u001b[0m\u001b[0mline\u001b[0m\u001b[0;34m)\u001b[0m\u001b[0;34m\u001b[0m\u001b[0m\n\u001b[1;32m   1439\u001b[0m             \u001b[0mlines\u001b[0m\u001b[0;34m.\u001b[0m\u001b[0mappend\u001b[0m\u001b[0;34m(\u001b[0m\u001b[0mline\u001b[0m\u001b[0;34m)\u001b[0m\u001b[0;34m\u001b[0m\u001b[0m\n",
      "\u001b[0;32m/anaconda3/lib/python3.6/site-packages/matplotlib/axes/_base.py\u001b[0m in \u001b[0;36m_grab_next_args\u001b[0;34m(self, *args, **kwargs)\u001b[0m\n\u001b[1;32m    402\u001b[0m                 \u001b[0mthis\u001b[0m \u001b[0;34m+=\u001b[0m \u001b[0margs\u001b[0m\u001b[0;34m[\u001b[0m\u001b[0;36m0\u001b[0m\u001b[0;34m]\u001b[0m\u001b[0;34m,\u001b[0m\u001b[0;34m\u001b[0m\u001b[0m\n\u001b[1;32m    403\u001b[0m                 \u001b[0margs\u001b[0m \u001b[0;34m=\u001b[0m \u001b[0margs\u001b[0m\u001b[0;34m[\u001b[0m\u001b[0;36m1\u001b[0m\u001b[0;34m:\u001b[0m\u001b[0;34m]\u001b[0m\u001b[0;34m\u001b[0m\u001b[0m\n\u001b[0;32m--> 404\u001b[0;31m             \u001b[0;32mfor\u001b[0m \u001b[0mseg\u001b[0m \u001b[0;32min\u001b[0m \u001b[0mself\u001b[0m\u001b[0;34m.\u001b[0m\u001b[0m_plot_args\u001b[0m\u001b[0;34m(\u001b[0m\u001b[0mthis\u001b[0m\u001b[0;34m,\u001b[0m \u001b[0mkwargs\u001b[0m\u001b[0;34m)\u001b[0m\u001b[0;34m:\u001b[0m\u001b[0;34m\u001b[0m\u001b[0m\n\u001b[0m\u001b[1;32m    405\u001b[0m                 \u001b[0;32myield\u001b[0m \u001b[0mseg\u001b[0m\u001b[0;34m\u001b[0m\u001b[0m\n\u001b[1;32m    406\u001b[0m \u001b[0;34m\u001b[0m\u001b[0m\n",
      "\u001b[0;32m/anaconda3/lib/python3.6/site-packages/matplotlib/axes/_base.py\u001b[0m in \u001b[0;36m_plot_args\u001b[0;34m(self, tup, kwargs)\u001b[0m\n\u001b[1;32m    382\u001b[0m             \u001b[0mx\u001b[0m\u001b[0;34m,\u001b[0m \u001b[0my\u001b[0m \u001b[0;34m=\u001b[0m \u001b[0mindex_of\u001b[0m\u001b[0;34m(\u001b[0m\u001b[0mtup\u001b[0m\u001b[0;34m[\u001b[0m\u001b[0;34m-\u001b[0m\u001b[0;36m1\u001b[0m\u001b[0;34m]\u001b[0m\u001b[0;34m)\u001b[0m\u001b[0;34m\u001b[0m\u001b[0m\n\u001b[1;32m    383\u001b[0m \u001b[0;34m\u001b[0m\u001b[0m\n\u001b[0;32m--> 384\u001b[0;31m         \u001b[0mx\u001b[0m\u001b[0;34m,\u001b[0m \u001b[0my\u001b[0m \u001b[0;34m=\u001b[0m \u001b[0mself\u001b[0m\u001b[0;34m.\u001b[0m\u001b[0m_xy_from_xy\u001b[0m\u001b[0;34m(\u001b[0m\u001b[0mx\u001b[0m\u001b[0;34m,\u001b[0m \u001b[0my\u001b[0m\u001b[0;34m)\u001b[0m\u001b[0;34m\u001b[0m\u001b[0m\n\u001b[0m\u001b[1;32m    385\u001b[0m \u001b[0;34m\u001b[0m\u001b[0m\n\u001b[1;32m    386\u001b[0m         \u001b[0;32mif\u001b[0m \u001b[0mself\u001b[0m\u001b[0;34m.\u001b[0m\u001b[0mcommand\u001b[0m \u001b[0;34m==\u001b[0m \u001b[0;34m'plot'\u001b[0m\u001b[0;34m:\u001b[0m\u001b[0;34m\u001b[0m\u001b[0m\n",
      "\u001b[0;32m/anaconda3/lib/python3.6/site-packages/matplotlib/axes/_base.py\u001b[0m in \u001b[0;36m_xy_from_xy\u001b[0;34m(self, x, y)\u001b[0m\n\u001b[1;32m    241\u001b[0m         \u001b[0;32mif\u001b[0m \u001b[0mx\u001b[0m\u001b[0;34m.\u001b[0m\u001b[0mshape\u001b[0m\u001b[0;34m[\u001b[0m\u001b[0;36m0\u001b[0m\u001b[0;34m]\u001b[0m \u001b[0;34m!=\u001b[0m \u001b[0my\u001b[0m\u001b[0;34m.\u001b[0m\u001b[0mshape\u001b[0m\u001b[0;34m[\u001b[0m\u001b[0;36m0\u001b[0m\u001b[0;34m]\u001b[0m\u001b[0;34m:\u001b[0m\u001b[0;34m\u001b[0m\u001b[0m\n\u001b[1;32m    242\u001b[0m             raise ValueError(\"x and y must have same first dimension, but \"\n\u001b[0;32m--> 243\u001b[0;31m                              \"have shapes {} and {}\".format(x.shape, y.shape))\n\u001b[0m\u001b[1;32m    244\u001b[0m         \u001b[0;32mif\u001b[0m \u001b[0mx\u001b[0m\u001b[0;34m.\u001b[0m\u001b[0mndim\u001b[0m \u001b[0;34m>\u001b[0m \u001b[0;36m2\u001b[0m \u001b[0;32mor\u001b[0m \u001b[0my\u001b[0m\u001b[0;34m.\u001b[0m\u001b[0mndim\u001b[0m \u001b[0;34m>\u001b[0m \u001b[0;36m2\u001b[0m\u001b[0;34m:\u001b[0m\u001b[0;34m\u001b[0m\u001b[0m\n\u001b[1;32m    245\u001b[0m             raise ValueError(\"x and y can be no greater than 2-D, but have \"\n",
      "\u001b[0;31mValueError\u001b[0m: x and y must have same first dimension, but have shapes (365,) and (8760,)"
     ]
    },
    {
     "data": {
      "image/png": "[encoded data removed]",
      "text/plain": [
       "<matplotlib.figure.Figure at 0x108238898>"
      ]
     },
     "metadata": {},
     "output_type": "display_data"
    }
   ],
   "source": [
    "I_edirBog = []\n",
    "I_edirMsk = []\n",
    "I_edirJhs = []\n",
    "horas = np.arange(1,365*24+1)\n",
    "for i in range(0,size(solarAltitudBogotaHorario)):\n",
    "    I_edirBog.append(directIrradiance(solarAltitudBogotaHorario[i],2600))\n",
    "for i in range(0,size(solarAltitudMoscuHorario)):\n",
    "    I_edirMsk.append(directIrradiance(solarAltitudMoscuHorario[i],156))\n",
    "for i in range(0,size(solarAltitudJohannesHorario)):\n",
    "    I_edirJhs.append(directIrradiance(solarAltitudJohannesHorario[i],1753))\n",
    "    \n",
    "\n",
    "plt.plot(dias,I_edirBog,label='Bogotá')\n",
    "plt.xlabel('Hora')\n",
    "plt.ylabel('Irradiación solar (kW/$m^2$)')\n",
    "plt.plot(dias,I_edirMsk,label='Moscú')\n",
    "plt.xlabel('Hora')\n",
    "plt.ylabel('Irradiación solar (kW/$m^2$)')\n",
    "plt.plot(dias,I_edirJhs,label='Johannesburgo')\n",
    "plt.xlabel('Hora')\n",
    "plt.ylabel('Irradiación solar (kW/$m^2$)')\n",
    "plt.legend()"
   ]
  },
  {
   "cell_type": "markdown",
   "metadata": {},
   "source": [
    "# MODELO MATEMÁTICO\n",
    "\n",
    "Para la construcción del modelo se utilizó un modelo presente en la Universidad UT DELFT de Holanda. En él se introducen diversas teorías y aproximaciones, entre ellos el \"Astronomical Applications Departement of the\n",
    "U.S. Naval Observatory\", el cual define el modelo que se utilizará más adelante. Las ecuaciónes utilizadas en el modelo fueron las siguientes:\n",
    "\n",
    "* Días transcurridos desde la madrugada del 1 de Enero del 2000 UTC:\n",
    "\n",
    "\n",
    "$ D:$ Tiempo transcurrido desde el 01/01/2000 UTC\n",
    "\n",
    "* Longitud (q) y 'anomaly' (g) promedio del sol:\n",
    "\n",
    "$q = 280.459º +0.98564736ºD$\n",
    "\n",
    "$g = 357.529º +0.98560028ºD$\n",
    "\n",
    "* Latitud del sol $\\lambda_s$ en coordenadas elípiticas:\n",
    "\n",
    "$ \\lambda_s = q + 1.915ºsin g + 0.020º sin 2g $\n",
    "\n",
    "* Inclinación axial de la tierra $\\epsilon$:\n",
    "\n",
    "$ \\epsilon = 23.429-0.00000036ºD $\n",
    "\n",
    "* Hora Greenwich (GMST):\n",
    "\n",
    "$ T= D/36525 $\n",
    "\n",
    "$ GMST = 18.697374558h + 24.06570982441908h*D + 0.000026h * T^2 $\n",
    "\n",
    "* 'Local mean siderial time' $\\theta_L$:\n",
    "\n",
    "$ \\alpha_0:$ Longitud del observador \n",
    "\n",
    "$ \\theta_L = GMST * (15º/hour) + \\alpha_0 $\n",
    "\n",
    "* Altitud($a_s$) y 'azimuth'($A_s$) solar: \n",
    "\n",
    "$\\phi_0 $ : Latitutd del observador\n",
    " \n",
    "$a_s = arcsin( cos\\phi_0cos\\theta_L cos\\alpha_s+(cos\\phi_0sin\\theta_Lcos\\epsilon+sin\\phi_0sin\\epsilon)sin\\lambda_s)$\n",
    "\n",
    "$A_s = arctan\\Big(\\dfrac{-sin\\theta_Lcos\\lambda_s+cos\\theta_Lcos\\epsilon sin\\lambda_s)}{-sin\\phi_0cos\\theta_Lcos\\lambda_s-(sin\\phi_0sin\\theta_Lcos\\epsilon-cos\\phi_0sin\\epsilon)sin\\lambda_s}\\Big) $"
   ]
  },
  {
   "cell_type": "markdown",
   "metadata": {},
   "source": [
    "# RESTULADOS\n",
    "\n",
    "Primeramente se calculó la posición solar en coordenadas elípticas para observar el comportamiento de la posición solar para la misma hora del día en diferentes días:"
   ]
  },
  {
   "cell_type": "code",
   "execution_count": null,
   "metadata": {},
   "outputs": [],
   "source": [
    "pyplot.plot(solarAzimuthBogota[1:],solarAltitudBogota[1:])\n",
    "pyplot.plot(solarAzimuthBogota[0],solarAltitudBogota[0],'k',marker='o', linestyle='dashed',linewidth=2, markersize=5)\n",
    "pyplot.xlabel('Solar Azimuth[º]')\n",
    "pyplot.ylabel('Solar Altitud[º]')\n",
    "pyplot.title('Posoción solar alrededor del año [BOGOTÁ]')"
   ]
  },
  {
   "cell_type": "code",
   "execution_count": null,
   "metadata": {},
   "outputs": [],
   "source": [
    "pyplot.plot(solarAzimuthMoscu,solarAltitudMoscu)\n",
    "pyplot.xlabel('Solar Azimuth[º]')\n",
    "pyplot.ylabel('Solar Altitud[º]')\n",
    "pyplot.title('Posoción solar alrededor del año [MOSCÚ]')"
   ]
  },
  {
   "cell_type": "code",
   "execution_count": null,
   "metadata": {},
   "outputs": [],
   "source": [
    "pyplot.plot(solarAzimuthJohannes,solarAltitudJohannes)\n",
    "pyplot.xlabel('Solar Azimuth[º]')\n",
    "pyplot.ylabel('Solar Altitud[º]')\n",
    "pyplot.title('Posoción solar alrededor del año [JOHANNESBURGO]')\n",
    "plt.tight_layout()"
   ]
  },
  {
   "cell_type": "markdown",
   "metadata": {},
   "source": [
    "Se puede apreciar el analema el cual es esperado ya que este comportamiento describe la posición solar en el cielo si todos los días del año se observa a la misma hora del día.\n",
    "\n",
    "Luego, se pudo calcular la radiación solar directa para cada uno de las ciudades (Bogotá, Moscú, Johanneburgo) y se pudo observar la incidencia de la ubicación sobre el modelo de radiación.\n",
    "\n",
    "A continuación se muestra la radiación promedio diaria para cada una de las ciudades"
   ]
  },
  {
   "cell_type": "code",
   "execution_count": null,
   "metadata": {},
   "outputs": [],
   "source": [
    "dias = np.arange(365)\n",
    "plt.plot(dias,irradianceProm(I_edirBog))\n",
    "plt.xlabel('Días')\n",
    "plt.ylabel('Radiación solar promedio $W/m^2$')\n",
    "plt.title('Radiación Solar promedio Bogotá')"
   ]
  },
  {
   "cell_type": "markdown",
   "metadata": {},
   "source": [
    "Como se puede observar, la radiación promedio diaría para Bogotá varía entre 90 y 130 $W/m^2$"
   ]
  },
  {
   "cell_type": "code",
   "execution_count": null,
   "metadata": {},
   "outputs": [],
   "source": [
    "plt.plot(dias,irradianceProm(I_edirMsk))\n",
    "plt.xlabel('Días')\n",
    "plt.ylabel('Radiación solar promedio $W/m^2$')\n",
    "plt.title('Radiación Solar promedio Moscú')"
   ]
  },
  {
   "cell_type": "markdown",
   "metadata": {},
   "source": [
    "Se puede ver que la radaición promedio en Moscú es mucho más baja que la de Bogotá y esto puede ser debido a que en Moscú puede existir épocas en el año donde se tenga pocas horas de sol en el día."
   ]
  },
  {
   "cell_type": "code",
   "execution_count": null,
   "metadata": {
    "scrolled": true
   },
   "outputs": [],
   "source": [
    "plt.plot(dias,irradianceProm(I_edirJhs))\n",
    "plt.xlabel('Días')\n",
    "plt.ylabel('Radiación solar promedio W/m^2$')\n",
    "plt.title('Radiación Solar promedio Johannesburgo')"
   ]
  },
  {
   "cell_type": "markdown",
   "metadata": {},
   "source": [
    "Se puede observar que la radiación promedio en Johannesburgo varía un poco en 4 diferentes periodos de tiempo en valores entre los 70 y 90 $W/m^2$ aproximadamente\n",
    "\n",
    "* Cabe mencionar que el modelo utilizado tiene en cuenta una aproximación de la cantidad de nubosidad presente en cada ubicación por lo que los resultados podrían variar considerablemente conforme a la realidad"
   ]
  }
 ],
 "metadata": {
  "kernelspec": {
   "display_name": "Python 3",
   "language": "python",
   "name": "python3"
  },
  "language_info": {
   "codemirror_mode": {
    "name": "ipython",
    "version": 3
   },
   "file_extension": ".py",
   "mimetype": "text/x-python",
   "name": "python",
   "nbconvert_exporter": "python",
   "pygments_lexer": "ipython3",
   "version": "3.6.3"
  }
 },
 "nbformat": 4,
 "nbformat_minor": 2
}
